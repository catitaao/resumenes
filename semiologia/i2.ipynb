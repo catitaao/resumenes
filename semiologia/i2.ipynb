{
 "cells": [
  {
   "cell_type": "markdown",
   "metadata": {},
   "source": [
    "#"
   ]
  },
  {
   "cell_type": "markdown",
   "metadata": {},
   "source": [
    "## Contenidos"
   ]
  },
  {
   "cell_type": "markdown",
   "metadata": {},
   "source": [
    "1. [Enfoques sobre el signo](#1-enfoques-sobre-el-signo)\n",
    "    - [Significación y referente](#significación-y-referente)\n",
    "    - [Significación diferencial](#significación-diferencial)\n",
    "2. [Del signo al discurso](#2-del-signo-al-discurso)\n",
    "    - [Construcción social de la realidad](#construcción-social-de-la-realidad)\n",
    "3. [Discurso e ideologías](#3-discurso-e-ideologías)\n",
    "    - [Discurso, ideología y poder](#discurso-ideología-y-poder)\n",
    "    - [Imaginarios sociales](#imaginarios-sociales)\n",
    "    - [Representaciones sociales](#representaciones-sociales)\n",
    "4. Resúmenes textos\n",
    "    - Zecchetto, V. (2006) La danza de los signos, Cap. 6\n",
    "    - Greimas & Courtés (1990), Diccionario Razonado - cuadrado semiótico, pp. 96-99.\n",
    "    - Zecchetto, V. (coord.) (2008). Seis Semiólogos en busca del lecctor. Greimas, pp. 151-161.\n",
    "    - Klinkenberg, J.M. (2006). Manual de Semiótica general. Cap. 4\n",
    "    - Rose, “Visual methodologies”, pp. 189-208\n",
    "    - Van Dijk, “Discurso y poder”, cap. 2\n",
    "    - Foucault, “Verdad y poder”, pp. 175-189\n",
    "    - [Castoriadis, “La institución imaginaria de la sociedad”.](https://revolucioncantonaldotnet.files.wordpress.com/2019/01/kupdf.com_la-institucioacuten-imaginaria-de-la-sociedad-cornelius-castoriadis.pdf) Páginas 118 a 122.\n",
    "    - Raiter, “Representaciones sociales”, cap. 1\n",
    "    - Arruda, \"Imaginario social, imagen y representación social\""
   ]
  },
  {
   "cell_type": "markdown",
   "metadata": {},
   "source": [
    "## 1. Enfoques sobre el signo"
   ]
  },
  {
   "cell_type": "markdown",
   "metadata": {},
   "source": [
    "### Significación y referente"
   ]
  },
  {
   "cell_type": "markdown",
   "metadata": {},
   "source": [
    "Textos: \n",
    "- Zecchetto, V. (2006) La danza de los signos, Cap. 6\n",
    "\n",
    "#### Significación:\n",
    "- Es el proceso complejo de asignación, uso e interpretación de significados.\n",
    "- Es determinado por múltiples variables.\n",
    "- Se categoriza en niveles:\n",
    "    - Denotación: significado literal y objetivo\n",
    "    - Connotación: significado simbólico, ideal y subjetivo, se construye a partir de la denotación.\n",
    "\n",
    "##### Significación referencial\n",
    "- Representa el uso de signos para referir a objetos materiales.\n",
    "- Se considera un significación estable y unívoca.\n",
    "    \n",
    "    Ej:\n",
    "    - \"Perro\" para referirse a un animal.\n",
    "    - \"Computador\" para referirse a una máquina.\n",
    "\n",
    "##### Significación figurativa\n",
    "- Greimas lo llama **figurativización** (significación figurativa!)\n",
    "- Permite referirse a lo abstracto o inmaterial mediante signos.\n",
    "- Estos signos se relacionan al mundo físico y pueden ser percibidos por los sentidos.\n",
    "    \n",
    "    Ej:\n",
    "    - La \"ansiedad\" se puede significar mediante una persona tomándose el pecho o una masa que ahoga a una persona.\n",
    "- No todas las palabras son necesariamente figurativas.\n",
    "- La significación figurativa se construye cuando se encadena con otras que tienen un componente concreto.\n",
    "    \n",
    "    Ej:\n",
    "    - La palabra \"amor\" es igualmente abstracta que el concepto que designa, al ser encadenada con elementos como corazón, flores o mariposas en el estómago se puede construir el sentido figurativo.\n",
    "- La metáfora es una forma de firgurativización de conceptos abstractos.\n",
    "\n",
    "Iconización:\n",
    "- Es un modo de figuritivización.\n",
    "- Los conceptos que representan lo abstracto son fácilmente reconocibles.\n",
    "    \n",
    "    Ej:\n",
    "    - La \"justicia\" puede ser representada por una imágen de un juez o de una balanza.\n",
    "\n",
    "#### Greimas\n",
    "- Semiólogo lituano-francés, activo en WWII. Estudió en Francia.\n",
    "- Se dedicó a desarrollar una semiótica que estudia fenómenos generales y más amplios que la lingüística.\n",
    "- Aplicó conceptos a moda, arte y ritos.\n",
    "- Se basó en los trabajos de Hjelmslev.\n",
    "\n"
   ]
  },
  {
   "cell_type": "markdown",
   "metadata": {},
   "source": [
    "### Significación diferencial"
   ]
  },
  {
   "cell_type": "markdown",
   "metadata": {},
   "source": [
    "Textos:\n",
    "- Greimas & Courtés (1990), Diccionario Razonado - cuadrado semiótico, pp. 96-99.\n",
    "- Zecchetto, V. (coord.) (2008). Seis Semiólogos en busca del lecctor. Greimas, pp. 151-161.\n",
    "\n",
    "Además de la significación mediante denotación y connotación, Greimas postuló que se puede significar a través de las diferencias del signo con otros.\n",
    "\n",
    "- El signo significa por lo que refiere (referencial/figurativa) y también por aquello de lo que se diferencia.\n",
    "\n",
    "Ej:\n",
    "- Conocemos el calor porque también conocemos el frío.\n",
    "- Comprendemos que es adentro por la existencia de afuera.\n",
    "\n",
    "- Greimas establece 2 tipos de diferenciación entre significados de los signos: \n",
    "    - Contrariedad: Los signos están relacionados por su oposición en el sistema al que pertenecen, son antónimos en el **contexto**. Como amor/odio y frío/calor.\n",
    "    - Contradicción: El signo se relaciona a su opuesto lógico. Como no amor/no odio.\n",
    "\n",
    "- Al distinguir contrariedad de contradicción, se puede reconocer la significación implícita y explícita. \n",
    "- A partir de las distinciones, se puede armar el **cuadrado semiótico**.\n",
    "![cuadrado semiotico.png](/fotos/cuadrado%20semiotico.png)"
   ]
  },
  {
   "cell_type": "markdown",
   "metadata": {},
   "source": [
    "## 2. Del signo al discurso"
   ]
  },
  {
   "cell_type": "markdown",
   "metadata": {},
   "source": [
    "### Construcción social de la realidad"
   ]
  },
  {
   "cell_type": "markdown",
   "metadata": {},
   "source": [
    "Textos:\n",
    "- Rose, “Visual methodologies”, pp. 189-208\n",
    "\n",
    "#### Realidad\n",
    "- La semiología estudia los procesos de significación y sentido en la sociedad.\n",
    "- La significación es la dotación y la interpretación de significado/sentido. La cual permite operar en la realidad natural y **cultural**, lo cual crea la semiósfera.\n",
    "- Desde la semiótica, la realidad humana es tanto **material** como **sensorial**.\n",
    "- El humano busca entender (nombrar, describir, relacionar) y culturizar (controlar, producir, proteger) la realiadad física.\n",
    "\n",
    "- La ontología (existencia) postula que la realidad se divide en 2 polos:\n",
    "    - Empirismo: La existencia real es la material, física y concreta.\n",
    "    - Idealismo: La existencia real es la ideal, de consciencia y abstracta.\n",
    "\n",
    "- La epistemología (conocimiento) distinque la realidad en:\n",
    "    - Positivismo: Dice que el saber real es el empírico y objetivo, ya que no depende de un sujeto.\n",
    "    - Constructivismo: Dice que el saber real es el que se forma entre sujeto y objeto. (La semiótica es constructivista)\n",
    "    - A partir de estom se formó el post-positivismo, el cual establece que se necesita de un contexto (más positivista) para poder crear relaciones constructivistas.\n",
    "\n",
    "\n",
    "- A partir de un marco **idealista** y **constructivista**, es posible validar una realidad construida cuyos efectos son reales.\n",
    "- La **realidad construida** es de sentido y se forma mediante discursos.\n",
    "\n",
    "#### Discurso\n",
    "\n",
    "- Un **discurso** es un grupo de enunciados(**signos**) que estructuran como se **piensa** algo y como se **actúa** en base a ese conocimiento.\n",
    "- Al designar un **sistema** y un **proceso**, es considerado **polisémico**.\n",
    "- Existen distintos tipos de discursos, los cuales establecen visiones de mundo. (ej: médico, académico, periodístico, telenovelesco, etc.)\n",
    "- Los discursos forman \"personajes\" con roles y lenguajes determinados.\n",
    "- Básicamente todo es un discurso, forman un red discursiva la cual mezcla distintos tipos y permitiendo un apoyo mútuo.\n",
    "- Un discurso no se cierra en sí mismo, interactúa con el exterior. \n",
    "- Al transmitir un mensaje, se escoge el discurso y contenido en base a la relación y conocimientos del destinatario.\n",
    "- Un discurso es un hecho social y cultural, estando en un espacio y tiempo determinado y hace referencias a su contexto.\n",
    "- Mediante el texto, es posible recoger indicios para reconstruir el contexto.\n",
    "- Mediante los discursos, es posible **crear** representaciones, acciones y afirmar una perspectiva.\n",
    "- El proceso del discurso es interactivo. Se realizan inferencias, supuesuestos, estrategias de personalización y dimensiones relacionales/afectivas.\n",
    "- Los discursos forman parte de una gran red. Permitiendo intertextualidad y diálogo con otros textos. El texto es limitado en la construcción de sentido, esta va más allá a través de interpretaciones.\n",
    "\n"
   ]
  },
  {
   "cell_type": "markdown",
   "metadata": {},
   "source": [
    "## 3. Discurso e ideologías"
   ]
  },
  {
   "cell_type": "markdown",
   "metadata": {},
   "source": [
    "### Discurso, ideología y poder"
   ]
  },
  {
   "cell_type": "markdown",
   "metadata": {},
   "source": [
    "Textos: \n",
    "- Van Dijk, “Discurso y poder”, cap. 2\n",
    "- Foucault, “Verdad y poder”, pp. 175-189\n",
    "\n",
    "#### Ideología\n",
    "- Es una doctrina filosófica que estudia el **origen de las ideas**.\n",
    "- Un conjunto de **ideas fundamentales** que caracterizan el **modo de pensar** del sujeto.\n",
    "- La sociología la define como sistema de creencias que sustentan prácticas individuales y colectivas.\n",
    "- La visión de mundo, ideas de lo verdadero/falso y orden social son influenciados por ideologías.\n",
    "- A pesar de ser asociado principalmente a lo político, una ideología **representa un sistema de creencias sociales** en diversos temas.\n",
    "- [Zizek](https://www.youtube.com/watch?v=CMRM_bfCBig) dice que las ideologías no encarcelan.\n"
   ]
  },
  {
   "cell_type": "markdown",
   "metadata": {},
   "source": [
    "### Imaginarios sociales\n"
   ]
  },
  {
   "cell_type": "markdown",
   "metadata": {},
   "source": [
    "Textos:\n",
    "- [Castoriadis, “La institución imaginaria de la sociedad”.](https://revolucioncantonaldotnet.files.wordpress.com/2019/01/kupdf.com_la-institucioacuten-imaginaria-de-la-sociedad-cornelius-castoriadis.pdf) Páginas 118 a 122.\n"
   ]
  },
  {
   "cell_type": "markdown",
   "metadata": {},
   "source": [
    "### Representaciones sociales"
   ]
  },
  {
   "cell_type": "markdown",
   "metadata": {},
   "source": [
    "Textos:\n",
    "- Raiter, “Representaciones sociales”, cap. 1\n",
    "- Arruda, \"Imaginario social, imagen y representación social\"\n"
   ]
  },
  {
   "cell_type": "markdown",
   "metadata": {},
   "source": [
    "## 4. Resúmenes textos"
   ]
  },
  {
   "cell_type": "markdown",
   "metadata": {},
   "source": [
    "### [La danza de los signos - Capítulo 6: La trama denotativa y connotativa](/documentos/Zecchetto%20-%20La%20danza%20de%20los%20signos%20(cap.6%20-%20Denotacion%20y%20connotacion).pdf)"
   ]
  },
  {
   "cell_type": "markdown",
   "metadata": {},
   "source": [
    "- La actividad denotativa y connotativa es parte del proceso cognitivo humano y ocurre a través de signos.\n",
    "- Estas no son excluyentes de otros contenidos, relacionandose con significante-significado y sintagma-paradigma.\n",
    "\n",
    "#### Denotación\n",
    "- Se produce entre signo y objeto (en relación al objeto del que se habla).\n",
    "- El sentido denotado no tiene que coincidir con la verdad, lo fundamental es que sea coherente con la estructura sígnica.\n",
    "- La denotación fucniona dentro del signo, sin contar necesariamente a una verdad objetiva exterior del referente.\n",
    "\n",
    "\n",
    "\n",
    "\n",
    "resumen chatgpt:\n",
    "\n",
    "El capítulo 6 del libro La danza de los signos de Victorino Zecchetto aborda las nociones de denotación y connotación, conceptos clave en el proceso cognitivo humano relacionado con el uso de signos. Zecchetto reconoce que estos términos son controversiales debido a la dificultad de establecer límites claros entre ambos.\n",
    "\n",
    "\t•\tDenotación: Se refiere al significado literal o directo de un signo, es decir, a la relación entre el signo y el objeto o estado de cosas que representa. La denotación es más informativa y normativa, con un énfasis en la estructura estable del lenguaje.\n",
    "\t•\tConnotación: Involucra los significados adicionales o asociados que no están presentes directamente en la denotación. La connotación aporta una apertura semántica, permitiendo la introducción de valores simbólicos, emotivos o culturales que van más allá del significado literal.\n",
    "\n",
    "Zecchetto destaca que la connotación altera la denotación al abrir nuevas posibilidades interpretativas, introduciendo elementos simbólicos y metafóricos que dependen del contexto cultural. Ambos conceptos no representan una oposición entre lo objetivo y lo subjetivo, sino aspectos complementarios de la significación.\n",
    "\n",
    "Además, el autor explora cómo las connotaciones pueden estar influenciadas por ideologías y mitos sociales, utilizando como ejemplo la palabra “indígena”, cuyo significado connotativo en América Latina está cargado de valoraciones históricas y culturales.\n",
    "\n",
    "En resumen, la semiótica estudia cómo los signos generan significados y cómo estos son interpretados y transformados en las sociedades, sin enfocarse directamente en la verdad filosófica de las cosas.\n",
    "\n",
    "\n",
    "Aquí tienes otros puntos clave adicionales del capítulo 6 de La danza de los signos de Victorino Zecchetto:\n",
    "\n",
    "\t1.\tDistinción analítica entre denotación y connotación:\n",
    "\t•\tAunque ambos conceptos están estrechamente relacionados, su distinción es meramente analítica y no implica una oposición rígida. La denotación aborda el significado consensuado y más estable de los signos, mientras que la connotación amplía las posibilidades de interpretación a través de la subjetividad, el contexto y las asociaciones culturales.\n",
    "\t2.\tEl papel de la connotación en la interpretación:\n",
    "\t•\tLa connotación es dinámica y se expande más allá del significado literal. Introduce valores semánticos que son producto de las asociaciones mentales del intérprete y de las influencias culturales. Es común en el lenguaje metafórico y simbólico, permitiendo lecturas más abiertas y creativas.\n",
    "\t3.\tConnotación y proyección simbólica:\n",
    "\t•\tLa connotación facilita la proyección simbólica, es decir, cómo el ser humano recurre al uso de símbolos y metáforas para expresar ideas abstractas o subjetivas. A través de esta práctica, el significado de los signos se amplía hacia nuevas interpretaciones.\n",
    "\t4.\tLa interacción entre los códigos sociales y culturales:\n",
    "\t•\tLa interpretación de los signos (tanto en su dimensión denotativa como connotativa) está profundamente influenciada por los códigos sociales y culturales dominantes. Estos códigos modelan cómo una sociedad entiende e interpreta signos y discursos, destacando el poder del contexto en la producción de significados.\n",
    "\t5.\tInfluencia de mitos e ideologías:\n",
    "\t•\tZecchetto señala que los significados connotativos a menudo están marcados por mitos (según Roland Barthes) e ideologías (según el marxismo). Estos marcos de referencia determinan cómo un grupo social entiende ciertos signos más allá de su significado literal, frecuentemente ocultando o deformando el sentido original en función de los intereses dominantes.\n",
    "\t6.\tCrítica a la interpretación connotativa infinita:\n",
    "\t•\tAunque la connotación abre múltiples caminos de interpretación, no significa que esta pueda extenderse infinitamente. Los significantes y los códigos culturales actúan como barreras que restringen la proliferación sin control de significados.\n",
    "\t7.\tImportancia del contexto histórico y social:\n",
    "\t•\tZecchetto argumenta que la interacción entre denotación y connotación está situada históricamente. Las interpretaciones dependen de los referentes sociales y los códigos culturales del emisor y receptor, influidos por factores como la educación, la clase social, y la ideología dominante.\n",
    "\n",
    "Estos puntos destacan la riqueza y complejidad del análisis semiótico en torno a la creación e interpretación de los signos en el lenguaje y la cultura."
   ]
  },
  {
   "cell_type": "markdown",
   "metadata": {},
   "source": [
    "### Diccionario razonado"
   ]
  },
  {
   "cell_type": "markdown",
   "metadata": {},
   "source": []
  },
  {
   "cell_type": "markdown",
   "metadata": {},
   "source": [
    "### Seis semiólogos en busca del lector"
   ]
  },
  {
   "cell_type": "markdown",
   "metadata": {},
   "source": []
  },
  {
   "cell_type": "markdown",
   "metadata": {},
   "source": [
    "### Manual de semiótica general"
   ]
  },
  {
   "cell_type": "markdown",
   "metadata": {},
   "source": []
  },
  {
   "cell_type": "markdown",
   "metadata": {},
   "source": [
    "### Discurso y poder"
   ]
  },
  {
   "cell_type": "markdown",
   "metadata": {},
   "source": []
  },
  {
   "cell_type": "markdown",
   "metadata": {},
   "source": [
    "### Verdad y poder"
   ]
  },
  {
   "cell_type": "markdown",
   "metadata": {},
   "source": []
  },
  {
   "cell_type": "markdown",
   "metadata": {},
   "source": [
    "### La institución imaginaria de la sociedad"
   ]
  },
  {
   "cell_type": "markdown",
   "metadata": {},
   "source": []
  },
  {
   "cell_type": "markdown",
   "metadata": {},
   "source": [
    "### Representaciones sociales"
   ]
  },
  {
   "cell_type": "markdown",
   "metadata": {},
   "source": []
  },
  {
   "cell_type": "markdown",
   "metadata": {},
   "source": [
    "### Imaginario social, imagen y representación social"
   ]
  },
  {
   "cell_type": "markdown",
   "metadata": {},
   "source": []
  }
 ],
 "metadata": {
  "kernelspec": {
   "display_name": "Python 3",
   "language": "python",
   "name": "python3"
  },
  "language_info": {
   "codemirror_mode": {
    "name": "ipython",
    "version": 3
   },
   "file_extension": ".py",
   "mimetype": "text/x-python",
   "name": "python",
   "nbconvert_exporter": "python",
   "pygments_lexer": "ipython3",
   "version": "3.11.7"
  }
 },
 "nbformat": 4,
 "nbformat_minor": 2
}
