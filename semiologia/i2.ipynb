{
 "cells": [
  {
   "cell_type": "markdown",
   "metadata": {},
   "source": [
    "#"
   ]
  },
  {
   "cell_type": "markdown",
   "metadata": {},
   "source": [
    "## Contenidos"
   ]
  },
  {
   "cell_type": "markdown",
   "metadata": {},
   "source": [
    "1. [Enfoques sobre el signo](#1-enfoques-sobre-el-signo)\n",
    "    - [Significación y referente](#significación-y-referente)\n",
    "    - [Significación diferencial](#significación-diferencial)\n",
    "2. [Del signo al discurso](#2-del-signo-al-discurso)\n",
    "    - [Construcción social de la realidad](#construcción-social-de-la-realidad)\n",
    "3. [Discurso e ideologías](#3-discurso-e-ideologías)\n",
    "    - [Discurso, ideología y poder](#discurso-ideología-y-poder)\n",
    "    - [Imaginarios sociales](#imaginarios-sociales)\n",
    "    - [Representaciones sociales](#representaciones-sociales)\n",
    "4. Resúmenes textos\n",
    "    - [Zecchetto, V. (2006) La danza de los signos, Cap. 6](#la-danza-de-los-signos---capítulo-6-la-trama-denotativa-y-connotativa)\n",
    "    - [Greimas & Courtés (1990), Diccionario Razonado - cuadrado semiótico, pp. 96-99.](#diccionario-razonado)\n",
    "    - [Zecchetto, V. (coord.) (2008). Seis Semiólogos en busca del lecctor. Greimas, pp. 151-161.](#seis-semiólogos-en-busca-del-lector)\n",
    "    - [Klinkenberg, J.M. (2006). Manual de Semiótica general. Cap. 4](#manual-de-semiótica-general)\n",
    "    - [Rose, “Visual methodologies”, pp. 189-208](#visual-methodologies)\n",
    "    - [Van Dijk, “Discurso y poder”, cap. 2](#discurso-y-poder)\n",
    "    - [Foucault, “Verdad y poder”, pp. 175-189](#verdad-y-poder)\n",
    "    - [Castoriadis, “La institución imaginaria de la sociedad”.](https://revolucioncantonaldotnet.files.wordpress.com/2019/01/kupdf.com_la-institucioacuten-imaginaria-de-la-sociedad-cornelius-castoriadis.pdf) Páginas 118 a 122.\n",
    "    - [Raiter, “Representaciones sociales”, cap. 1](#representaciones-sociales)\n",
    "    - [Arruda, \"Imaginario social, imagen y representación social\"](#imaginario-social-imagen-y-representación-social)"
   ]
  },
  {
   "cell_type": "markdown",
   "metadata": {},
   "source": [
    "## 1. Enfoques sobre el signo"
   ]
  },
  {
   "cell_type": "markdown",
   "metadata": {},
   "source": [
    "### Significación y referente"
   ]
  },
  {
   "cell_type": "markdown",
   "metadata": {},
   "source": [
    "Textos: \n",
    "- Zecchetto, V. (2006) La danza de los signos, Cap. 6\n",
    "\n",
    "#### Significación:\n",
    "- Es el proceso complejo de asignación, uso e interpretación de significados.\n",
    "- Es determinado por múltiples variables.\n",
    "- Se categoriza en niveles:\n",
    "    - Denotación: significado literal y objetivo. Significación de primer orden.\n",
    "    - Connotación: significado simbólico, ideal y subjetivo, se construye a partir de la denotación. Significación de segundo orden.  \n",
    "- La significación incluye al proceso de interpretación. Porque se asume que los fenómenos semiótico-comunicativos son de co-creación. Donde el lector no es un receptor pasivo, hace cosas con el texto, como interpretar.\n",
    "- Siguiendo la definición de Pierce de **semiosis**, es lo mismo que el proceso de significación.\n",
    "- La semiosis se usa como término general para referirse a procesos de construcción de sentido, va más allá del significado objetivo (relación signo-objeto) del emisor. Incluye significados potenciales formados por el receptor -> **interpretante**.\n",
    "- En el caso de Saussure, sus propiedades del signo (arbitrariedad e inmutabilidad) son un tipo de significación estática, que se definen previamente por códigos (lenguaje), presentando *posibilidad* de cambio.\n",
    "\n",
    "#### Barthes\n",
    "- Tenía un foco **culturalista** de la semiología, estudió a Saussure. Concluía que la cultura no presenta signos ni hablas naturales, esto se refiere a que se relacionan a convenciones o ideologías.\n",
    "- Es el que identificó la denotación y connotación.\n",
    "- Decía que la **connotación** debía ser la **base** de los estudios semiológicos, ya que decía que desde la lengua se podían identificar sistemas de signicados extendidos.\n",
    "- Reestructuró el proceso de significación, aplicando los conceptos de Saussure (**significante** y **significado**). Donde al signo se le da un significado connotativo al convertirse en significante de otro signo.\n",
    "- Por lo tanto:\n",
    "    - Denotación -> que dice explícitamente un signo.\n",
    "    - Connotación -> significados extendidos. No surgen del lector, sino que del signo y su cultura. Sugerido sin ser referido.\n",
    "##### Barthes y la retórica de la imagen\n",
    "- En una primera instancia, la imagen se percibe como un mensaje sin código por el sentido común.\n",
    "- El carácter de **construcción** de la fotografía implica la intervención del mensaje mediante temas, enfoques, planos, colores, etc.\n",
    "- La imagen puede entregar distintos tipos de mensajes:\n",
    "    - Icónico no-codificado: Las imagenes tienes función meramente **denotativa**.\n",
    "    - Icónico codificado: Los sentidos y significados son derivados de las imagenes y el tratamiento visual.\n",
    "    - Lingüistíco: Son las palabras que acompañan al mensaje (audio)visual. Anclan el mensaje (tema, mito, ideología, etc.).\n",
    "\n",
    "\n",
    "\n",
    "\n",
    "##### Significación referencial\n",
    "- Representa el uso de signos para referir a objetos materiales.\n",
    "- Se considera un significación estable y unívoca.\n",
    "    \n",
    "    Ej:\n",
    "    - \"Perro\" para referirse a un animal.\n",
    "    - \"Computador\" para referirse a una máquina.\n",
    "\n",
    "##### Significación figurativa\n",
    "- Greimas lo llama **figurativización** (significación figurativa!)\n",
    "- Permite referirse a lo abstracto o inmaterial mediante signos.\n",
    "- Estos signos se relacionan al mundo físico y pueden ser percibidos por los sentidos.\n",
    "    \n",
    "    Ej:\n",
    "    - La \"ansiedad\" se puede significar mediante una persona tomándose el pecho o una masa que ahoga a una persona.\n",
    "- No todas las palabras son necesariamente figurativas.\n",
    "- La significación figurativa se construye cuando se encadena con otras que tienen un componente concreto.\n",
    "\n",
    "    \n",
    "    Ej:\n",
    "    - La palabra \"amor\" es igualmente abstracta que el concepto que designa, al ser encadenada con elementos como corazón, flores o mariposas en el estómago se puede construir el sentido figurativo.\n",
    "- La metáfora es una forma de firgurativización de conceptos abstractos.\n",
    "\n",
    "Iconización:\n",
    "- Es un modo de figuritivización.\n",
    "- Los conceptos que representan lo abstracto son fácilmente reconocibles.\n",
    "    \n",
    "    Ej:\n",
    "    - La \"justicia\" puede ser representada por una imágen de un juez o de una balanza.\n",
    "\n",
    "#### Greimas\n",
    "- Semiólogo lituano-francés, activo en WWII. Estudió en Francia.\n",
    "- Se dedicó a desarrollar una semiótica que estudia fenómenos generales y más amplios que la lingüística.\n",
    "- Aplicó conceptos a moda, arte y ritos.\n",
    "- Se basó en los trabajos de Hjelmslev."
   ]
  },
  {
   "cell_type": "markdown",
   "metadata": {},
   "source": [
    "### Significación diferencial"
   ]
  },
  {
   "cell_type": "markdown",
   "metadata": {},
   "source": [
    "Textos:\n",
    "- Greimas & Courtés (1990), Diccionario Razonado - cuadrado semiótico, pp. 96-99.\n",
    "- Zecchetto, V. (coord.) (2008). Seis Semiólogos en busca del lecctor. Greimas, pp. 151-161.\n",
    "\n",
    "Además de la significación mediante denotación y connotación, Greimas postuló que se puede significar a través de las diferencias del signo con otros.\n",
    "\n",
    "- El signo significa por lo que refiere (referencial/figurativa) y también por aquello de lo que se diferencia.\n",
    "\n",
    "Ej:\n",
    "- Conocemos el calor porque también conocemos el frío.\n",
    "- Comprendemos que es adentro por la existencia de afuera.\n",
    "\n",
    "- Greimas establece 2 tipos de diferenciación entre significados de los signos: \n",
    "    - Contrariedad: Los signos están relacionados por su oposición en el sistema al que pertenecen, son antónimos en el **contexto**. Como amor/odio y frío/calor.\n",
    "    - Contradicción: El signo se relaciona a su opuesto lógico. Como no amor/no odio.\n",
    "\n",
    "- Al distinguir contrariedad de contradicción, se puede reconocer la significación implícita y explícita. \n",
    "- A partir de las distinciones, se puede armar el **cuadrado semiótico**. El cual distingue la contradicción (relación opuesta entre dos conceptos/no pueden ser a la vez), contrariedad (dos términos que son opuestos pero no mutuamente excluyentes), eje de subcontrarios (relación que implica la presencia de un término y la ausencia del otro) y afirmación/negación (refiere a la relación de un término con su opuesto directo)\n",
    "\n",
    "![cuadrado-semiotico.png](/fotos/cuadrado%20semiotico.png)"
   ]
  },
  {
   "cell_type": "markdown",
   "metadata": {},
   "source": [
    "## 2. Del signo al discurso"
   ]
  },
  {
   "cell_type": "markdown",
   "metadata": {},
   "source": [
    "### Construcción social de la realidad"
   ]
  },
  {
   "cell_type": "markdown",
   "metadata": {},
   "source": [
    "Textos:\n",
    "- Rose, “Visual methodologies”, pp. 189-208\n",
    "\n",
    "#### Realidad\n",
    "- La semiología estudia los procesos de significación y sentido en la sociedad.\n",
    "- La significación es la dotación y la interpretación de significado/sentido. La cual permite operar en la realidad natural y **cultural**, lo cual crea la semiósfera.\n",
    "- Desde la semiótica, la realidad humana es tanto **material** como **sensorial**.\n",
    "- El humano busca entender (nombrar, describir, relacionar) y culturizar (controlar, producir, proteger) la realiadad física.\n",
    "\n",
    "- La ontología (existencia) postula que la realidad se divide en 2 polos:\n",
    "    - Empirismo: La existencia real es la material, física y concreta.\n",
    "    - Idealismo: La existencia real es la ideal, de consciencia y abstracta.\n",
    "\n",
    "- La epistemología (conocimiento) distinque la realidad en:\n",
    "    - Positivismo: Dice que el saber real es el empírico y objetivo, ya que no depende de un sujeto.\n",
    "    - Constructivismo: Dice que el saber real es el que se forma entre sujeto y objeto. (La semiótica es constructivista)\n",
    "    - A partir de estom se formó el post-positivismo, el cual establece que se necesita de un contexto (más positivista) para poder crear relaciones constructivistas.\n",
    "\n",
    "\n",
    "- A partir de un marco **idealista** y **constructivista**, es posible validar una realidad construida cuyos efectos son reales.\n",
    "- La **realidad construida** es de sentido y se forma mediante discursos.\n",
    "\n",
    "#### Discurso\n",
    "\n",
    "- Un **discurso** es un grupo de enunciados(**signos**) que estructuran como se **piensa** algo y como se **actúa** en base a ese conocimiento.\n",
    "- Al designar un **sistema** y un **proceso**, es considerado **polisémico**.\n",
    "- Existen distintos tipos de discursos, los cuales establecen visiones de mundo. (ej: médico, académico, periodístico, telenovelesco, etc.)\n",
    "- Los discursos forman \"personajes\" con roles y lenguajes determinados.\n",
    "- Básicamente todo es un discurso, forman un red discursiva la cual mezcla distintos tipos y permitiendo un apoyo mútuo.\n",
    "- Un discurso no se cierra en sí mismo, interactúa con el exterior. \n",
    "- Al transmitir un mensaje, se escoge el discurso y contenido en base a la relación y conocimientos del destinatario.\n",
    "- Un discurso es un hecho social y cultural, estando en un espacio y tiempo determinado y hace referencias a su contexto.\n",
    "- Mediante el texto, es posible recoger indicios para reconstruir el contexto.\n",
    "- Mediante los discursos, es posible **crear** representaciones, acciones y afirmar una perspectiva.\n",
    "- El proceso del discurso es interactivo. Se realizan inferencias, supuesuestos, estrategias de personalización y dimensiones relacionales/afectivas.\n",
    "- Los discursos forman parte de una gran red. Permitiendo intertextualidad y diálogo con otros textos. El texto es limitado en la construcción de sentido, esta va más allá a través de interpretaciones.\n",
    "\n"
   ]
  },
  {
   "cell_type": "markdown",
   "metadata": {},
   "source": [
    "## 3. Discurso e ideologías"
   ]
  },
  {
   "cell_type": "markdown",
   "metadata": {},
   "source": [
    "### Discurso, ideología y poder"
   ]
  },
  {
   "cell_type": "markdown",
   "metadata": {},
   "source": [
    "Textos: \n",
    "- Van Dijk, “Discurso y poder”, cap. 2\n",
    "- Foucault, “Verdad y poder”, pp. 175-189\n",
    "\n",
    "#### Ideología\n",
    "- Es una doctrina filosófica que estudia el **origen de las ideas**.\n",
    "- Un conjunto de **ideas fundamentales** que caracterizan el **modo de pensar** del sujeto.\n",
    "- La sociología la define como sistema de creencias que sustentan prácticas individuales y colectivas.\n",
    "- La visión de mundo, ideas de lo verdadero/falso y orden social son influenciados por ideologías.\n",
    "- A pesar de ser asociado principalmente a lo político, una ideología **representa un sistema de creencias sociales** en diversos temas.\n",
    "- [Zizek](https://www.youtube.com/watch?v=CMRM_bfCBig) dice que las ideologías no encarcelan.\n",
    "- Al relacionar ideología y poder, es posible distinguir ideologias:\n",
    "    - Hegemónicas: Dominan el discurso público, se convierten en sentido común indisputable.\n",
    "    - Contrahegemónicas: Deslegitiman aquello planteado por el sentido común predominante. \n",
    "    - Subalternas: Presentan una tensión entre aceptación y rechazo de las ideologías hegemónicas. Por lo que son invisivilizadas.\n",
    "\n",
    "#### Discursos\n",
    "- Los discursos poseen un carácter intencional. Utilizan estrategias como la enunciación para construir prácticas sociales, las cuales están basadas en una **ideología**\n",
    "- Los discursos crean y reproducen ideologías. Explican, defienden y legitiman dicha ideología\n",
    "- Al afirmar (legitimar) algo,  negamos (deslegitimamos) otra cosa. Esto ocurre implícita o explícitamente.\n",
    "- Los discursos crean, proponen o imponen un mensaje. Tienen efectos \"tangibles\" sobre la realidad.\n",
    "- [Michel Foucault](https://www.youtube.com/watch?v=jmjbXDkhnR0) prensenta un problema sobre el poder. \n",
    "- Define el poder como la capacidad de hacer cosas o lograr que otros las hagan, incluso si son en contra del interés propio. No necesariamente va asociado a amenazas, puede funcionar por placer (poder discursivo).\n",
    "\n",
    "\n"
   ]
  },
  {
   "cell_type": "markdown",
   "metadata": {},
   "source": [
    "### Imaginarios sociales\n"
   ]
  },
  {
   "cell_type": "markdown",
   "metadata": {},
   "source": [
    "Textos:\n",
    "- [Castoriadis, “La institución imaginaria de la sociedad”.](https://revolucioncantonaldotnet.files.wordpress.com/2019/01/kupdf.com_la-institucioacuten-imaginaria-de-la-sociedad-cornelius-castoriadis.pdf) Páginas 118 a 122.\n",
    "\n",
    "\n",
    "#### Castoriadis y sus imaginarios\n",
    "- Postula la noción de imaginarios sociales, los define como imagenes compartidas.\n",
    "-  A partir de sus ideas, es posible decir que las ideas y juicios sobre la realidad social se basan en **imaginarios**. \n",
    "- Con imaginario, se refiere a creación incesante/indeterminada de figuras/formas/imagenes. Se tienden a expresar como conceptos abstractos que reunen significaciones y sentidos de valores y principios de temas comunes.\n",
    "- La noción de ideología y su legitimación discursiva presupone la existencia de un imaginario, ya que se justifica por este.\n",
    "    - Ej: nación-familia -> ciudadanos-hermanos, presidente-padre -> vínculo afectivo, aceptación ciega al poder hegemónico.\n",
    "- Los **imaginarios individuales** se construyen desde los sociales mediante procesos de institucionalidad discursiva (escuela, familia, qué dirán...)."
   ]
  },
  {
   "cell_type": "markdown",
   "metadata": {},
   "source": [
    "### Representaciones sociales"
   ]
  },
  {
   "cell_type": "markdown",
   "metadata": {},
   "source": [
    "Textos:\n",
    "- Raiter, “Representaciones sociales”, cap. 1\n",
    "- Arruda, \"Imaginario social, imagen y representación social\"\n",
    "\n",
    "#### Representaciones\n",
    "- Mediante las ideas de imaginarios sociales, significación, signos e ideologías. Surgen las representaciones como elementos claves para la interpretación humana de la realidad.\n",
    "- Representaciones: Lo que se dice da cuenta de como alguien entiende la realidad.\n",
    "- El sociologo francés Èmile Durkheim creó el término **\"representaciones colectivas\"**. Esto representa producciones mentales que van más allá de un individuo y forman parte de la cultura social. Estas representaciones son formadas por representaciones individuales adaptadas y particularizadas para cada individuo.\n",
    "- El concepto de **\"representaciones sociales\"**, por Serge Moscovici, representa un sistema de valores, nociones y prácticas relacionadas a objetos, aspectos o dimensiones sociales. Permiten estabilizar el marco de vida de individuos y grupos. También es un instrumento de orientación de percepción de situaciones y elaboración de respuestas.\n",
    "- Las representaciones sociales se usan para designar expresiones: discursivas, de sujetos/espacios/momentos y reflejos de imaginarios. Por lo que orientan la percepción del mundo para **emisor** y **receptor**.\n",
    "- Mediante representaciones sociales, se configuran los sentidos que se encuentran en el discurso. Esto permite dar cuenta de una visión de mundo, imaginario y/o una ideología, también percibir una visión de mundo al reproducir un imaginario y (des)legitimando una ideología.\n",
    "\n",
    "##### Representación y ...\n",
    "- Sociedad: Al referir a imaginarios **compartidos**, las representaciones reciben un carácter social.\n",
    "- Comunicación: Son formadas mediante interacción y contacto con los discursos que circulan en el espacio público. Son sistemas de referencia que permiten intepretar y dar sentido a cosas, incluso cuando podría ser difícil.\n",
    "- Lenguaje: Vienen inscritas en el lenguaje y las prácticas (define algo y representa lo que eso conlleva). Condensan significados para formar una imagen.\n",
    "- Conciencia: Vienen de un sentido común creado y compartido socialmente. Sirven como conocimiento práctico que es parte de la construcción social de la realidad, permiten dominar y comprender el entorno."
   ]
  },
  {
   "cell_type": "markdown",
   "metadata": {},
   "source": [
    "## 4. Resúmenes textos"
   ]
  },
  {
   "cell_type": "markdown",
   "metadata": {},
   "source": [
    "### La danza de los signos - Capítulo 6: La trama denotativa y connotativa"
   ]
  },
  {
   "cell_type": "markdown",
   "metadata": {},
   "source": [
    "- Denotación: Captación de los elementos constitutivos de los signos, es decir, todo aquello que abarca en cuanto a su estructura.\n",
    "- Connotación: La lectura de los signos que desborda y va más allá de la denotación. Tiene significados agregados o símbolos añadidos. \n",
    "\n",
    "- Donde termina la denotación, empieza la connotación.\n",
    "- Denotación vs Connotación: Binomio no es indicativo de oposición entre lo objetivo y lo subjetivo. Expresa dos aspectos complementarios. Denotación da razón del espectro más socializado, mientras la connotación se expande a zonas más evocativas"
   ]
  },
  {
   "cell_type": "markdown",
   "metadata": {},
   "source": [
    "### Diccionario razonado"
   ]
  },
  {
   "cell_type": "markdown",
   "metadata": {},
   "source": [
    "El texto trata conceptos claves en semiótica, especialmente el “cuadro semiótico,” que es una herramienta para representar visualmente las relaciones lógicas en una categoría semántica. Se discuten las operaciones de negación, aserción, contradicción, complementariedad y contrariedad, que definen las relaciones entre términos. Se introducen generaciones de términos categoriales, desde los primitivos hasta los de tercera generación, los cuales pueden ser complejos o neutros. Además, se menciona la importancia de la jerarquía en las estructuras semióticas y se compara el cuadro semiótico con otros modelos, destacando su enfoque en las condiciones de producción de significación."
   ]
  },
  {
   "cell_type": "markdown",
   "metadata": {},
   "source": [
    "### Seis semiólogos en busca del lector"
   ]
  },
  {
   "cell_type": "markdown",
   "metadata": {},
   "source": [
    "- La semiótica es la lógica del sentido\n",
    "- El encadenamiento de las partes que componen un determinado producto que adquiere significación para nosotros\n",
    "- Discurso: Forma textual en que se pone en relación distintos componentes\n",
    "que se articulan con determinada coherencia. Cada componente despliega un valor que, en virtud de operaciones específicas, están en continua transformación\n",
    "- Semiótica narrativa.\n",
    "- Sentido: Antes de cualquier producción discursiva. Semiótica no produce el sentido, sino que lo reformula para dotarlo de significación.\n",
    "- Objeto semiótico: Cualquier producción cultural en su condición significante."
   ]
  },
  {
   "cell_type": "markdown",
   "metadata": {},
   "source": [
    "### Manual de semiótica general"
   ]
  },
  {
   "cell_type": "markdown",
   "metadata": {},
   "source": [
    "El texto aborda conceptos fundamentales en semiótica, destacando cómo se estructura la gramática de diferentes lenguajes a través de componentes clave: fonológico, léxico, sintáctico y pragmático. También se exploran las reglas que rigen la constitución y combinación de unidades semióticas, y el uso pragmático de estas.\n",
    "\n",
    "Se enfatiza en el principio de oposición como un factor central en la semiótica, donde las unidades adquieren significado a través de su contraste con otras. Se introducen las nociones de sintagma y paradigma para explicar las relaciones en la combinación y selección de elementos. Además, se discute la importancia del contexto cultural en la estabilidad de las clases semióticas y cómo los paradigmas pueden variar.\n",
    "\n",
    "El texto también diferencia entre sistemas (conjuntos de oposiciones) y códigos (asociación entre significantes y significados), destacando la flexibilidad e interacción entre estos niveles en el proceso de significación."
   ]
  },
  {
   "cell_type": "markdown",
   "metadata": {},
   "source": [
    "### Visual methodologies"
   ]
  },
  {
   "cell_type": "markdown",
   "metadata": {},
   "source": [
    "- Análisis del discurso se centra en el estudio de cómo el lenguaje y las representaciones visuales construyen significados y poder\n",
    "- Medios de comunicación y organizaciones políticas influyen en producción y recepción de imágenes\n",
    "- Análisis del discurso como herramienta para comprender cómo las imágenes transmiten ideologías\n",
    "- Texto es cualquier forma de comunicación visual que pueda ser analizada\n",
    "- Intertextualidad corresponde a la relación entre diferentes textos y como influyen mutuamente.\n",
    "- Contexto refiere a los elementos sociales y culturales que envuelven al texto visual e influyen en la interpretación de este.\n",
    "- Dice que el discurso está compuesto por prácticas discursivas que producen significados y conocimientos en la sociedad."
   ]
  },
  {
   "cell_type": "markdown",
   "metadata": {},
   "source": [
    "### Discurso y poder"
   ]
  },
  {
   "cell_type": "markdown",
   "metadata": {},
   "source": [
    "El discurso es más que una secuencia de palabras, representa un conjunto de prácticas vinculadas al contexto social y cognitivo."
   ]
  },
  {
   "cell_type": "markdown",
   "metadata": {},
   "source": [
    "### Verdad y poder"
   ]
  },
  {
   "cell_type": "markdown",
   "metadata": {},
   "source": []
  },
  {
   "cell_type": "markdown",
   "metadata": {},
   "source": [
    "### La institución imaginaria de la sociedad"
   ]
  },
  {
   "cell_type": "markdown",
   "metadata": {},
   "source": [
    "El texto aborda la relación entre lo simbólico y lo imaginario, destacando cómo ambos conceptos están interconectados en diversos niveles de la vida social. Lo imaginario, entendido como aquello que se “inventa” o se aparta de la realidad, depende de lo simbólico para expresarse y existir. A su vez, lo simbólico presupone la capacidad de lo imaginario para darle sentido a las cosas más allá de lo inmediato.\n",
    "\n",
    "El simbolismo, aunque parece tener un componente racional y real, está profundamente influenciado por lo imaginario. En las sociedades, este imaginario social, que incluye elementos como la religión o la política, genera instituciones que, aunque útiles para el funcionamiento, contienen un núcleo imaginario que les da significado más allá de su función práctica.\n",
    "\n",
    "El autor también discute cómo la alienación surge cuando las instituciones se autonomizan, es decir, cuando el aspecto imaginario domina sobre la función social real, y la sociedad no reconoce sus instituciones como productos de su propio imaginario.\n",
    "\n",
    "En resumen, lo imaginario y lo simbólico son elementos clave en la formación de las instituciones y las estructuras sociales, afectando tanto su forma como su significado en las diferentes culturas y tiempos."
   ]
  },
  {
   "cell_type": "markdown",
   "metadata": {},
   "source": [
    "### Representaciones sociales"
   ]
  },
  {
   "cell_type": "markdown",
   "metadata": {},
   "source": []
  },
  {
   "cell_type": "markdown",
   "metadata": {},
   "source": [
    "### Imaginario social, imagen y representación social"
   ]
  },
  {
   "cell_type": "markdown",
   "metadata": {},
   "source": []
  },
  {
   "cell_type": "markdown",
   "metadata": {},
   "source": [
    "## Claves:\n",
    "- El sentido surge de la construcción social expresada en acciones y discursos.\n",
    "- Los discursos crean realidades, legitiman o deslegitiman ideologías, imponen ideologías.\n"
   ]
  }
 ],
 "metadata": {
  "kernelspec": {
   "display_name": "Python 3",
   "language": "python",
   "name": "python3"
  },
  "language_info": {
   "codemirror_mode": {
    "name": "ipython",
    "version": 3
   },
   "file_extension": ".py",
   "mimetype": "text/x-python",
   "name": "python",
   "nbconvert_exporter": "python",
   "pygments_lexer": "ipython3",
   "version": "3.11.7"
  }
 },
 "nbformat": 4,
 "nbformat_minor": 2
}
