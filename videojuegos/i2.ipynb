{
 "cells": [
  {
   "cell_type": "markdown",
   "metadata": {},
   "source": [
    "# Contenidos"
   ]
  },
  {
   "cell_type": "markdown",
   "metadata": {},
   "source": [
    "- [Teoría cierre unidad 1](#teoría-cierre-unidad-1)\n",
    "- [Textos](#textos)\n",
    "- [Game studies vs game design vs game development](#game-studies-vs-game-design-vs-game-development)\n",
    "- [Juegos en Japón](#juegos-en-japón)\n",
    "- [Preguntas tipo](#preguntas-tipo)"
   ]
  },
  {
   "cell_type": "markdown",
   "metadata": {},
   "source": [
    "## Teoría cierre unidad 1"
   ]
  },
  {
   "cell_type": "markdown",
   "metadata": {},
   "source": [
    "Linea de tiempo importante:\n",
    "\n",
    "- 1962: Se crea el sketchpad, revela el concepto de capas geológicas -> profundidad en la pantalla (ojos, codigo, manos y pantalla). Es una pantalla táctil que cuenta con un *stylus*, dando la primera instancia de interacción directa con una pantalla\n",
    "- 1991: Quiebre Sony-Nintendo (importante! Recordar fecha)\n",
    "- 1993: Inicios de 3d en videojuegos (Doom, Virtual Fighter). Comienza el rating ERSB de regulación por edad, permitiendo mayor variedad en los juegos.\n",
    "- 1994: Playstation, con cds!!\n",
    "- 1996: Tomb Raider. Salió primero exclusivo para Sega pero la gente esperó (3 meses) a que se estrene en Playstation. Marcando la carrera\n",
    "- 1997: Final Fantasy VII"
   ]
  },
  {
   "cell_type": "markdown",
   "metadata": {},
   "source": [
    "## Textos"
   ]
  },
  {
   "cell_type": "markdown",
   "metadata": {},
   "source": [
    "### Shoppelrei (*Hogwarts Legacy*)"
   ]
  },
  {
   "cell_type": "markdown",
   "metadata": {},
   "source": [
    "- Propuesta de diversidad. Buscan diversidad para lograr ***Make them mod***. \n",
    "- Los juegos presentan la opción de bendear los estereotipos de género, dejando que personajes usen vestuario o tengan características de otros géneros."
   ]
  },
  {
   "cell_type": "markdown",
   "metadata": {},
   "source": [
    "### Frasca"
   ]
  },
  {
   "cell_type": "markdown",
   "metadata": {},
   "source": [
    "- Simulación y representación: Los medios tradicionales son representacionales, produciendo descripciones de características y secuencias de los eventos/narrativas. Los videojuegos son\n",
    "- Ludus vs Paidia: Permi\n",
    "- Permiten transmitir ideologías de un autor. Por ejemplo Anthropy en Dys4ia."
   ]
  },
  {
   "cell_type": "markdown",
   "metadata": {},
   "source": [
    "### Zimmermann"
   ]
  },
  {
   "cell_type": "markdown",
   "metadata": {},
   "source": [
    "- Gaming literacy es un set de habilidades compuesto por sistemas, juego y diseño.\n",
    "- Parece que no entra el círculo mágico, pero conviene saber la definición básica.\n",
    "\n",
    "##### Sistemas:\n",
    "- \n",
    "\n",
    "##### Juego:\n",
    "- \n",
    "\n",
    "##### Diseño:\n",
    "- Proceso donde el diseñador crea el contexto donde se encuentra el videojuego con el jugador y se crea significado a partir de este encuentro. Por lo que  **contexto y participante** forman **significado**.\n",
    "- Se crea la posibilidad de crear significado mediante la interacción con los sistemas y reglas."
   ]
  },
  {
   "cell_type": "markdown",
   "metadata": {},
   "source": [
    "### Anable"
   ]
  },
  {
   "cell_type": "markdown",
   "metadata": {},
   "source": [
    "\n",
    "El juego despierta algo en el jugador, se crean emociones y van más allá del juego. Existe un encuentro íntimo jugador-computador-proceso (código). También hay una experiencia sensorial a través de la pantalla pero no se restringe por ella."
   ]
  },
  {
   "cell_type": "markdown",
   "metadata": {},
   "source": [
    "### Ruberg"
   ]
  },
  {
   "cell_type": "markdown",
   "metadata": {},
   "source": [
    "- Concepto *Queer* va más allá de la sexualidad\n",
    "- Menciona las experiencias de juego/vida distintas a la norma. Llevando lo *queer* a un contexto más general.\n",
    "- Esto puede aplicar al jugar de una manera distinta a la esperada. Creando una resistencia ante lo normativo y apropiandose del juego.\n",
    "- Lo *queer* comenzó antes del siglo XXI en videojuegos."
   ]
  },
  {
   "cell_type": "markdown",
   "metadata": {},
   "source": [
    "## Game studies vs game design vs game development"
   ]
  },
  {
   "cell_type": "markdown",
   "metadata": {},
   "source": [
    "##### Game studies\n",
    "- Estudiar los juegos como productos artesanales/artísticos\n",
    "\n",
    "##### Game design\n",
    "- Reglas operacionales de un juego de un punto no ingeniero\n",
    "\n",
    "##### Game development\n",
    "- Como desarrollar un juego"
   ]
  },
  {
   "cell_type": "markdown",
   "metadata": {},
   "source": [
    "## Juegos en Japón"
   ]
  },
  {
   "cell_type": "markdown",
   "metadata": {},
   "source": []
  },
  {
   "cell_type": "markdown",
   "metadata": {},
   "source": [
    "## Preguntas tipo\n"
   ]
  },
  {
   "cell_type": "markdown",
   "metadata": {},
   "source": [
    "\n",
    "(Alternativas 1+1/2 de plana. Corregir respuestas falsas. 1/3 de página por 6 preguntas en la prueba. 3 preguntas son aplicadas juegos, las otras son de juegos (4 y hay que responder 2)) Materia nueva principalmente en alternativas.\n",
    "\n",
    "1. En \"Chapter Four: Changing the game\", Anthropy describe tipos de mods\n",
    "\n",
    "2. De acuerdo a Bonnie Ruberg, podríamos argumentar que Undertale (2015) es un juego *Queer*, ¿Por qué?"
   ]
  }
 ],
 "metadata": {
  "language_info": {
   "name": "python"
  }
 },
 "nbformat": 4,
 "nbformat_minor": 2
}
