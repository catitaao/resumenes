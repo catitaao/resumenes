{
 "cells": [
  {
   "cell_type": "markdown",
   "metadata": {},
   "source": [
    "# Contenidos"
   ]
  },
  {
   "cell_type": "markdown",
   "metadata": {},
   "source": [
    "- [Cierre unidad 1](#cierre-unidad-1)\n",
    "- [Unidad 2: Teoría del videojuego y teorías aplicadas](#unidad-2-teoría-del-videojuego-y-teorías-aplicadas)\n",
    "- [Textos](#textos)\n",
    "- [Game studies vs game design vs game development](#game-studies-vs-game-design-vs-game-development)\n",
    "- [Juegos en Japón](#juegos-en-japón)\n",
    "- [Preguntas tipo](#preguntas-tipo)"
   ]
  },
  {
   "cell_type": "markdown",
   "metadata": {},
   "source": [
    "## Cierre unidad 1"
   ]
  },
  {
   "cell_type": "markdown",
   "metadata": {},
   "source": [
    "- En los 90's se hizo el cambio del cartucho como formato de videojuegos al **CD-Rom**.\n",
    "- Este cambio, **incrementa el almacenamiento**, permitiendo contenidos más pesados -> 3D!!!\n",
    "\n",
    "\n",
    "Linea de tiempo importante:\n",
    "\n",
    "- 1962: Se crea el sketchpad, revela el concepto de capas geológicas -> profundidad en la pantalla (ojos, codigo, manos y pantalla). Es una pantalla táctil que cuenta con un *stylus*, dando la primera instancia de interacción directa con una pantalla\n",
    "- 1991: Ocurre el Consumer Electronics Show en Chicago, quiebre Sony-Nintendo (importante! recordar fecha)\n",
    "- 1993: Inicios de 3d en videojuegos (Doom, Virtual Fighter). Comienza el rating ERSB de regulación por edad, permitiendo mayor variedad en los juegos, culpa de Mortal Kombat (1992).\n",
    "- 1994: Playstation, con cds!! Surge la carrera del 3D poligonal, con el estreno de Virtual Fighter. PlayStation le gana a Sega Saturn por su buen marketing.\n",
    "- 1996: Tomb Raider. Salió primero exclusivo para Sega pero la gente esperó (3 meses) a que se estrene en Playstation. Marcando la carrera\n",
    "- 1997: Final Fantasy VII\n",
    "\n",
    "\n",
    "### Final Fantasy VII\n",
    "- Cuenta con una relación importante entre las reglas y sistemas de juego con su contexto cultural.\n",
    "- Elementos como midgar contienen subtonos que pueden ser interpretados de distintas maneras a partir de perspectivas de temas sociales.\n",
    "- El uso de modelos 3D poligonales y más elementos visuales, se pueden manipular para darles ciertas perspectivas o vistas a los jugadores.\n",
    "- Esto refleja lo dicho por Anthropy: \"Jugar videojuegos nos hace más atentos a los sistemas y sus significados culturales y sociales\"."
   ]
  },
  {
   "cell_type": "markdown",
   "metadata": {},
   "source": [
    "## Unidad 2: Teoría del videojuego y teorías aplicadas"
   ]
  },
  {
   "cell_type": "markdown",
   "metadata": {},
   "source": [
    "### Game studies vs Game design vs Game development"
   ]
  },
  {
   "cell_type": "markdown",
   "metadata": {},
   "source": [
    "- Los juegos generan una conversación entre teoría y práctica.\n",
    "- ***Game studies***: Estudiar los juegos como productos artesanales/artísticos, performances, culturas, medios.\n",
    "- ***Game design***: Reglas operacionales de un juego de un punto no ingeniero. Son necesarias para jugar y son definidas por los roles del jugador.\n",
    "- ***Game development***: Como desarrollar un juego. Se fija en los flujos de producción y procesos de ingeniería para la construcción del juego."
   ]
  },
  {
   "cell_type": "markdown",
   "metadata": {},
   "source": [
    "### Game theory"
   ]
  },
  {
   "cell_type": "markdown",
   "metadata": {},
   "source": [
    "- La teoría se define como un punto de acuerdo entre expertos en el tema, los cuales deben ser estables.\n",
    "- No necesariamente deben ser axiomas o replicables, son puntos de encuentro para la comprensión de objetos culturales.\n",
    "- Responde preguntas como:\n",
    "    - ¿Qué es un juego?\n",
    "    - ¿Es un set de reglas?\n",
    "    - ¿Es una narrativa?\n",
    "    - ¿Son oponentes? ¿Ludología o Narratología?\n",
    "    - Jasper Juul dice que los juegos pueden ser lúdicos y ficticios sin renunciar a la naturaleza del otro\n",
    "    - ¿Qué estudian los juegos? ¿Jugadores, juegos o ambos?"
   ]
  },
  {
   "cell_type": "markdown",
   "metadata": {},
   "source": [
    "### Game studies"
   ]
  },
  {
   "cell_type": "markdown",
   "metadata": {},
   "source": [
    "- La intimidad en los videojuegos se forma por **representación + computación** = Análisis de afecto.\n",
    "    - Representación = Análisis Representacionales + Análisis Fenomenológicos\n",
    "    - Computación = Análisis Computacionales = Simulación (Frasca) + Configurativo/Formal (Juul)\n",
    "- Al ver la pantalla como un ***black mirror*** se enfatizan:\n",
    "    - Intimidad pantalla-usuario, proximidad y atención formada por esta.\n",
    "    - Existencia de algo reflejado por la superficie del espejo, refleja la humanidad narcicista y sadística.\n",
    "\n",
    "\n",
    "#### Tacto (Anable)\n",
    "\n",
    "- Se puede ver como sentirse conmovido emocionalmente, una experiencia inmaterial entrando en contacto con nuestras emociones y generando un cambio.\n",
    "- Señala la capacidad que tenemos de hacer lo mismo con alguien más.\n",
    "- Se establece una intersubjetividad entre humano, aparato y procesos computacionales.\n",
    "- Se produce un encuentro íntimo entre \"yo\" y \"otro\", generando confusión.\n",
    "- A partir de la pantalla, se observan propiedades sensoriales (sensuales) del código.\n",
    "- El código pasa a ser material por la pantalla e inmaterial a partir de los sentimientos.\n",
    "- Por lo tanto, la pantalla sería la zona de contacto donde ocurre el **ensamblaje afectivo**.\n",
    "- La pantalla crea intimidad y afecto:\n",
    "    - Ocurre una *haptic visuality* (Laura Marks), lo cual enfatiza la conexión **sensorial y táctil** con imágenes. Relacionando texturas, detalles y sensaciones físicas que producen las imágenes.\n",
    "    - Los estudios de interacción computador humano (HCI) buscan la naturalización de la pantalla táctil.\n",
    "    - Desde las primeras pantallas creadas (Sketchpad, 1962) se busca un acercamiento del cuerpo a la pantalla.\n",
    "    - Se crea una metáfora geológica que define el mapa: Código -> Pantalla -> Manos -> Ojos.\n",
    "    - Steve Swink habla sobre la importancia del ***game feel*** en el *game design*.\n",
    "    - La psicología dice que el afecto está formado por toque, ideación y defensa que genera placer (Valerie Walkerdine). "
   ]
  },
  {
   "cell_type": "markdown",
   "metadata": {},
   "source": [
    "### Los videojuegos siempre han sido *queer*"
   ]
  },
  {
   "cell_type": "markdown",
   "metadata": {},
   "source": [
    "- Queer:\n",
    "    - Término de identidad amplio para personas y experiencias que no conforman con las normas convencionales de género y sexualidad. Ser un \"yo\". \n",
    "    - Va más allá de una marca de identidad, representa una forma distinta de **ser, hacer y desear**. Significa resistir a lo hegemónico, rehacer el mundo.\n",
    "- Lo queer y los videojuegos buscan imaginar formas alternativas de ser y crear espacios en las estructuras de poder para resistir. También desnaturalizan el cuerpo normativo e invitan a pensar en nuevos mecanismos de deseo.\n",
    "- Las representaciones queer no necesariamente serán visibles y tampoco deben tener relación a la definición de queer en cuanto a la identidad de género o sexual.\n",
    "- Se puede ver lo queer en **sistemas interactivos, controles, lógica computacional, diseño, interpretación y en el acto de jugar (al desnaturalizar el cuerpo normativo y pensar en nueos mecanismos de deseo).\n",
    "- La \"inclusión *queer*\" ha progresado de manera lineal en la historia, viendo elementos de inclusión desde los 2000 en adelante.\n",
    "- Personajes como Birdo no representan directamente inclusión, pero los jugadores pueden interpretarlo de esa manera."
   ]
  },
  {
   "cell_type": "markdown",
   "metadata": {},
   "source": [
    "#### Mods\n",
    "- Un hack o mod son creados para subvertir o comentar las intenciones del autor original.\n",
    "- También se usa para corregir lo que está mal o lo que falta. \n",
    "- Son infraestructuras fáciles para crear algo nuevo.\n",
    "- Han evolucionado desde cartuchos -> ROM -> emuladores y editores.\n",
    "- Categorías:\n",
    "    - Cambios de género: Se pueden cambiar los géneros de personajes por representación, sesgos o subvertir la masculinidad agresiva en los videojuegos.\n",
    "    - Sampling: Se toman elementos de un juego para crear uno nuevo.\n",
    "    - Traducción: Hay juegos cuyas traducciones pueden no estar disponibles o cambiar elementos clave de la narrativa.\n",
    "    - Machinima: Se usan recursos e infraestructura de videojuegos para crear películas animadas. Machine + Animation.\n",
    "    - Licencias de motor gráfico: Algunos motores gráficos fueron creados para juegos especíificos y se pueden licenciar como infraestructura para la creación de otros juegos. Lo que significa oficializar las creaciones de hackers o modders.\n",
    "- Shoppelrei dice que los juegos deberían ser tan variados que llamen a la gente anti-progre a crear mods (\"make them mod\").\n",
    "- El poder modificar juegos es solo un salto para poder crearlos."
   ]
  },
  {
   "cell_type": "markdown",
   "metadata": {},
   "source": [
    "## Unidad 3: Videojuegos en Asia"
   ]
  },
  {
   "cell_type": "markdown",
   "metadata": {},
   "source": [
    "### Antecedentes históricos"
   ]
  },
  {
   "cell_type": "markdown",
   "metadata": {},
   "source": [
    "- A fines del periodo Edo (1600-1868), Japón contaba con un nivel de alfabetismo de 70-86%.\n",
    "- Gracias al alfabetismo, crece la circulación del entretenimiento popular.\n",
    "- Japón se enfoca en educar a sus ciudadanos para que participen en el gobierno o *bakufu* (gobierno militar).\n",
    "\n",
    "- En la guerra de Asia Pacífico, el imperio japonés trata de colonizar China, Corea, Tailandia y más. Impulsando el desarrollo de tecnologías militares.\n",
    "- Entre 1945 y 1952, ocurre la ocupación de Estados Unidos sobre Japón, la cual obliga a una modrenización de su gobierno y estructuras sociales.\n"
   ]
  },
  {
   "cell_type": "markdown",
   "metadata": {},
   "source": [
    "### Compañías fundadoras"
   ]
  },
  {
   "cell_type": "markdown",
   "metadata": {},
   "source": [
    "- Taito Trading Company\n",
    "    - Fundada en 1953 por Michael Kogan, Ucraniano.\n",
    "    - Desarrollaron su primer videojuego en 1973, *Elepong*.\n",
    "    - Tuvieron su primer mega-éxito en 1978 con *Space Invaders*, por Toshihiro Nishikado. El cual crea la crisis de 100 yenes, donde la popularidad del juego en los arcades generó escacez de 100 yenes.\n",
    "\n",
    "- Nintendo\n",
    "    - Fundada en 1889 por Fusajiro Yamauchi.\n",
    "    - Iniciaron con la producción de cartas *hanafuda*.\n",
    "    - Sale *Donkey Kong* en 1981 para arcades.\n",
    "    - Sacan su primera consola en 1985, *Nintendo Famicom*, la cual contaba con un procesador de 8 bits.\n",
    "    - Alcanzaron gran éxito con el estreno de *Super Mario Bros*.\n",
    "    - En 1949 toma el poder el nieto de su fundador, Hiroshi Yamauchi.\n",
    "    - Con un nuevo dueño, entraron nuevas metas.\n",
    "        - Ingresar al mercado de arcades desde 1977, con un pong casero al que llamaron Color TV. Luego de notar el éxito de Taito con Space Invaders.\n",
    "        - En 1980 sacaron la consola Game & Watch, la cual contaba con el juego Ball.\n",
    "        - En 1981 alcanzaron éxito en los arcades con Donkey Kong, estableciendo a Nintendo como parte de los big 3.\n",
    "        - En 1982, diseñan la Family Computer (Famicom), la cual contaba con accesorios que elevaban su precio. Para evitarlo, sacaron una versión simplificada donde el controlador elimina al joystick y mantiene la cruz del Game & Watch.\n",
    "        - Basado en Atari, venden software que solo se puede utilizar en una consola, recibiendo apoyo de empresas externas.\n",
    "        - Firman acuerdos de exclusividad con Capcom, Konami, Namco, Bandai y Taito.\n",
    "        - Integran un chip de seguridad en sus consolas.\n",
    "        - Venden más de 3 millones de unidades entre 1983 y 1984\n",
    "    - Luego del éxito en Jpaón, deciden ingresar la Famicom a occidente.\n",
    "        - 1er intento: En 1983 con Atari. Al descubrir que Coleco aún promocionaba Donkey Kong en su nueva consola, se quiebra la confianza entre Nintendo y Atari.\n",
    "        - 2do intento: Cambian su nombre a AVS y la hacen gris (1984-1985). Van al Consumer Electronic Show en Las Vegas en enero de 1985. Incorporan la pistola Zapper para el juego Hogan's Alley y Duck Hunt.\n",
    "        - 3er intento: Van al CES de Chicago en julio de 1985. Renombran la Famicom a Nintendo Entertainment System (NES). Ingresan al mercado de NY vendiendo la NES con Super Mario Bros.\n",
    "\n",
    "- Sega\n",
    "    - Fundada en 1952 por Marty Bromley, de Estados Unidos.\n",
    "    - Su nombre viene de **Se**rvice **Ga**mes.\n",
    "    - Enfoque en juegos de arcade para bases militares en Hawaii y Japón durante la ocupación de EEUU. Como pinballs o tragamonedas.\n",
    "    - En 1951 EEUU pasó leyes estrictas por los tragamonedas, en adición a las leyes anti-pinball de Nueva York en los 1940's.\n",
    "    - Estas leyes hicieron que SEGA mueva sus máquinas de Hawaii a Japón y a la creación de su fábrica Nippon Kikai Seizo.\n",
    "    - En 1964 se fusionan con Rosen Enterprises. Empresa de las cabinas fotográficas Photorama, con convenios en 6000 locales.\n",
    "    - La consola Sega Genesis (1988) fue la principal competencia de Nintendo.\n",
    "    - En 1983, pasan a tener dueños japoneses (Hayao Nakayama).\n",
    "    - En 1991 contratan a Tom Kalinske, publicista, para entrar al mercado estadounidense con la Sega Genesis (16 bits). Quien recomendó:\n",
    "        - Bajar el precio a $150.\n",
    "        - Crear un juego más simple y atractivo que Super Mario Bros para poder competir con Nintendo.\n",
    "        - Crear una mascota para que sea la imagen de Sega.\n",
    "    - A partir de las recomendaciones, crearon el juego Sonic The Hedgehog (1991). Se aseguraron de acelerar el movimiento y visualización del personaje, darle personalidad y que este interpele al jugador.\n",
    "\n"
   ]
  },
  {
   "cell_type": "markdown",
   "metadata": {},
   "source": [
    "### Novela visuales y *otome*"
   ]
  },
  {
   "cell_type": "markdown",
   "metadata": {},
   "source": [
    "- Yoichi Erikawa y Keiko Erikawa crean \"Koei\", lanzando sus primeros juegos históricos (Battles of Kawanakajima(1981) y Nobunaga no Yabō(1983)).\n",
    "- A partir de estas cosas, nacen los \"Visual Novel\" que se subdividen en las siguientes categorías:\n",
    "    - Eroge: Juegos simuladores eróticos o de citas.\n",
    "    - Bishōjo gemu: Juegos de chicas atractivas, normalmente hechos para que jueguen hombres.\n",
    "    - Ōtome: Juegos de romance, normalmente con mujeres como protagonistas y hechos para ellas.\n",
    "- Las visual novels son cybertextos, son definidos por la forma en la que funciona el texto. Donde el material incluye reglas para su uso, siendo obras con requerimientos integrados.\n",
    "- Los otome se tratan de navegar el amor romántico.\n",
    "- A pesar de no ser abiertamente feministas, el género shojo y otome ofrecen un espacio para que las niñas puedan participar en su cultura y acercase a las experiencias emocionales de la adolescencia.\n",
    "- Las narrativas de los shojos usan la fórmula típica del romance, reproducen valores del patriarcado y entregan espacios donde se pueden subvertir las lecturas permitiendo que las jugadoras dominen sus deseos y decisiones."
   ]
  },
  {
   "cell_type": "markdown",
   "metadata": {},
   "source": [
    "## Textos"
   ]
  },
  {
   "cell_type": "markdown",
   "metadata": {},
   "source": [
    "### Shoppelrei (*Hogwarts Legacy*)"
   ]
  },
  {
   "cell_type": "markdown",
   "metadata": {},
   "source": [
    "- Propuesta de diversidad. Buscan diversidad para lograr ***Make them mod***. \n",
    "- Los juegos presentan la opción de bendear los estereotipos de género, dejando que personajes usen vestuario o tengan características de otros géneros."
   ]
  },
  {
   "cell_type": "markdown",
   "metadata": {},
   "source": [
    "### Jasper Juul (Game Studies)"
   ]
  },
  {
   "cell_type": "markdown",
   "metadata": {},
   "source": [
    "- Vista estructuralista de los juegos, a partir del estudio y teoría de estos."
   ]
  },
  {
   "cell_type": "markdown",
   "metadata": {},
   "source": [
    "### Anthropy"
   ]
  },
  {
   "cell_type": "markdown",
   "metadata": {},
   "source": [
    "- Los juegos nos pueden hacer más perceptivos a sus sistemas.\n",
    "- Esto se aplica a la vida real."
   ]
  },
  {
   "cell_type": "markdown",
   "metadata": {},
   "source": [
    "### Frasca"
   ]
  },
  {
   "cell_type": "markdown",
   "metadata": {},
   "source": [
    "- Simulación y representación: Los medios tradicionales son representacionales, produciendo descripciones de características y secuencias de los eventos/narrativas. Los videojuegos son\n",
    "- Ludus vs Paidia: Permi\n",
    "- Permiten transmitir ideologías de un autor. Por ejemplo Anthropy en Dys4ia.\n",
    "- Los juegos nos hacen más perceptivos a las ideologías transmitidas por los autores, permitiendo observarlas en la sociedad."
   ]
  },
  {
   "cell_type": "markdown",
   "metadata": {},
   "source": [
    "### Zimmermann"
   ]
  },
  {
   "cell_type": "markdown",
   "metadata": {},
   "source": [
    "- Gaming literacy es un set de habilidades compuesto por sistemas, juego y diseño.\n",
    "- Nos hace más conscientes del sistema, jugabilidad (juego) y diseño.\n",
    "- Estos conocimientos mejoran la percepción de la interacción humana.\n",
    "- Parece que no entra el círculo mágico, pero conviene saber la definición básica.\n",
    "\n",
    "##### Sistemas:\n",
    "- \n",
    "\n",
    "##### Juego:\n",
    "- \n",
    "\n",
    "##### Diseño:\n",
    "- Proceso donde el diseñador crea el contexto donde se encuentra el videojuego con el jugador y se crea significado a partir de este encuentro. Por lo que  **contexto y participante** forman **significado**.\n",
    "- Se crea la posibilidad de crear significado mediante la interacción con los sistemas y reglas."
   ]
  },
  {
   "cell_type": "markdown",
   "metadata": {},
   "source": [
    "### Anable"
   ]
  },
  {
   "cell_type": "markdown",
   "metadata": {},
   "source": [
    "- Estudios desde el punto de vista del jugador\n",
    "- El juego despierta algo en el jugador, se crean emociones y van más allá del juego. \n",
    "- Existe un encuentro íntimo jugador-computador-proceso (código). \n",
    "- También hay una experiencia sensorial a través de la pantalla pero no se restringe por ella.\n",
    "- Responde a:\n",
    "    - ¿Qué tipo de encuentro ocurre?\n",
    "    - ¿Quienes participan?\n",
    "    - ¿Qué ocurre en la participación?\n",
    "- Los juegos tienen el potencial de reorganizar las prioridades sensoriales, aumentar sentidos y cambiar la relación de estos."
   ]
  },
  {
   "cell_type": "markdown",
   "metadata": {},
   "source": [
    "### Ruberg"
   ]
  },
  {
   "cell_type": "markdown",
   "metadata": {},
   "source": [
    "- Concepto *Queer* va más allá de la sexualidad\n",
    "- Menciona las experiencias de juego/vida distintas a la norma. Llevando lo *queer* a un contexto más general.\n",
    "- Esto puede aplicar al jugar de una manera distinta a la esperada. Creando una resistencia ante lo normativo y apropiandose del juego.\n",
    "- Lo *queer* comenzó antes del siglo XXI en videojuegos."
   ]
  },
  {
   "cell_type": "markdown",
   "metadata": {},
   "source": [
    "## Preguntas tipo\n"
   ]
  },
  {
   "cell_type": "markdown",
   "metadata": {},
   "source": [
    "\n",
    "(Alternativas 1+1/2 de plana. Corregir respuestas falsas. 1/3 de página por 6 preguntas en la prueba. 3 preguntas son aplicadas juegos, las otras son de juegos (4 y hay que responder 2)) Materia nueva principalmente en alternativas.\n",
    "\n",
    "1. En \"Chapter Four: Changing the game\", Anthropy describe tipos de mods\n",
    "\n",
    "2. De acuerdo a Bonnie Ruberg, podríamos argumentar que Undertale (2015) es un juego *Queer*, ¿Por qué?"
   ]
  }
 ],
 "metadata": {
  "language_info": {
   "name": "python"
  }
 },
 "nbformat": 4,
 "nbformat_minor": 2
}
