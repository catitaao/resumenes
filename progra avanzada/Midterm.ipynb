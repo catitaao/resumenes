{
 "cells": [
  {
   "cell_type": "markdown",
   "metadata": {},
   "source": [
    "# Tabla de contenidos\n",
    "\n",
    "1. [Semana 2 - Guía de estilo](#guía-de-estilo-pep8)\n",
    "2. [Semana 2 - Modularización](#modularización)\n",
    "3. [Semana 2 - Paths](#paths)\n",
    "4. [Semana 2 - Terminal](#terminal)\n",
    "5. [Semana 2 - Git](#git)\n",
    "6. [Semana 3 - Estructuras de datos](#estructuras-de-datos)\n",
    "7. [Semana 3 - Tuplas](#tuplas)\n",
    "8. [Semana 3 - Stacks y colas](#stacks-y-colas)\n",
    "9. [Semana 3 - Diccionarios](#diccionarios)\n",
    "10. [Semana 3 - Sets](#sets)\n",
    "11. [Semana 3 - `args` y `kwargs`](#args-y-kwargs)\n",
    "12. [Semana 4 - Herencia](#herencia)\n",
    "13. [Semana 4 - Polimorfismo](#polimorfismo)\n",
    "14. [Semana 4 - Multiherencia](#multiherencia)\n",
    "15. [Semana 4 - Properties](#properties)\n",
    "16. [Semana 4 - Métodos estáticos (bonus)](#métodos-estáticos-bonus)\n",
    "17. [Semana 5 - Clases abstractas](#clases-abstractas)\n",
    "18. [Semana 5 - Diagrama de clases](#diagrama-de-clases)\n",
    "19. [Semana 5 - Iterables generadores](#iterables-generadores)\n",
    "20. [Semana 5 - Listas ligadas](#listas-ligadas)\n",
    "21. [Semana 5 - Metaclases (bonus)](#metaclases-bonus)\n",
    "22. [Semana 6 - Excepciones](#excepciones)\n",
    "23. [Semana 6 - Levantamiento y manejo de excepciones](#levantamiento-y-manejo-de-excepciones)\n",
    "24. [Semana 6 - Excepciones personalizadas(bonus)](#excepciones-personalizadas-bonus)\n",
    "25. [Semana 8 - Paradigma funcional](#paradigma-funcional)\n",
    "26. [Semana 8 - Funciones generadoras](#funciones-generadoras)\n",
    "27. [Semana 8 - Funciones retornan generadores](#funciones-retornan-generadores)\n",
    "28. [Semana 8 - Aplicaciones generadores](#aplicaciones-generadores)\n",
    "29. [Extras](#extras)"
   ]
  },
  {
   "cell_type": "markdown",
   "metadata": {},
   "source": [
    "# Semana 2 - Entorno de trabajo"
   ]
  },
  {
   "cell_type": "markdown",
   "metadata": {},
   "source": [
    "## Guía de estilo PEP8"
   ]
  },
  {
   "cell_type": "markdown",
   "metadata": {},
   "source": [
    "Son **reglas en la escritura de código** para asegurar un **formato constante**. Esto hace más fácil la lectura de un código, facilita el debuggeo🐛, acelera la escritura del código y resulta en nombres de archivos y variables predecibles.\n",
    "Python recomienda el formato [PEP8](https://peps.python.org/pep-0008/). A continuación se presentan algunas de sus reglas:\n",
    "\n",
    "- Nombrar **variables, atributos, funciones y métodos** con `snake_case`. Esto consiste en reemplazar los espacios en los nombres por `_` y usando solo minúsculas (regla del curso, no a nivel general).\n",
    "- Nombrar **clases** con `CamelCase`, donde se utilizan mayúsculas en la primera letra de cada palabra dentro del nombre de la clase.\n",
    "- Usar nombres de variables **descriptivos**.\n",
    "- Dejar los imports al inicio del archivo. Esto permite ordenar las secciones del archivo y encontrar las librerías y módulos externos utilizados en un solo lugar.\n",
    "- Poner espacios despues de las `,` y a los lados de los operadores.\n",
    "- Usar 4 espacios `    ` para indentar (NO usar tab).\n",
    "- Límite de 100 caracteres por línea (el formato general dice 80 max). Esto permite compatibilidad con herramientas de edición que tienen límite de 80 caracteres. Para acortar líneas se puede crear variables auxiliares y usar `\\` para saltar de línea (yo uso paréntesis para saltar las líneas pero no sé si es legal)."
   ]
  },
  {
   "cell_type": "markdown",
   "metadata": {},
   "source": [
    "## Modularización"
   ]
  },
  {
   "cell_type": "markdown",
   "metadata": {},
   "source": [
    " Consiste en **separar el código lógicamente** mediante **módulos** (archivos), donde cada uno funciona independientemente. Para trabajar con los módulos usamos el comando `import`. Este permite importar variables, funciones, clases y cualquier otro tipo de definición creada.\n",
    "\n",
    " Cuando se ejecuta un `import`, python corre todo el archivo importado al archivo actual, esto permite utilizar sus propiedades.\n",
    "\n",
    " Formas de importar:\n",
    " - La importación completa, se importan todos los contenidos del archivo. Para acceder a sus definiciones se utiliza el formato: `variable.definición`. Este modo de importación se obtiene al escribir:\n",
    " ```python\n",
    "import modulo\n",
    "```\n",
    "- La importación con alias hace lo mismo que la completa, solo cambiando el nombre que será utilizado para llamar al módulo. De esta manera, se accede mediante `apodo.definición`. Y se importa escribiendo:\n",
    "```python\n",
    "import modulo as alias\n",
    "```\n",
    "- La importación parcial llama a definiciones específicas del módulo. Esta importación se obtiene escribiendo:\n",
    "```python\n",
    "from modulo import variable, funcion, Clase\n",
    "```\n",
    "- La importación completa, sin referencia al módulo es una mala práctica. Ya que importa indiscriminadamente y existe la posiblidad de que hayan nombres que coincidan y se sobreescribirían. Por lo tanto, ❌❌❌**NO** usar❌❌❌:\n",
    "```python\n",
    "from modulo import *\n",
    "```\n",
    "- En este capítulo se explican las variables `__name__`. Pero no entendí el objetivo de esa información.\n",
    "\n",
    "\n",
    "La modularización se vuelve muy importante a medida que los códigos se vuelven más extensos. El uso de esta práctica facilita el debuggeo y la reutilización de código!! Además ocurre la abtracción de componentes, la cual nos permite concentrarnos en las funcionalidades de estos y no de lo que hace que funcionen."
   ]
  },
  {
   "cell_type": "markdown",
   "metadata": {},
   "source": [
    "## Paths"
   ]
  },
  {
   "cell_type": "markdown",
   "metadata": {},
   "source": [
    "Los *paths* (rutas) nos muestran la ubicación de un archivo/directorio dentro del sistema. Existen los *paths* absolutos y relativos. \n",
    "- Los absolutos comienzan en la raíz del sistema. Este directorio tiende a ser representado por `/`, `\\` o `C:/`. Requiere de que exista exactamente la misma ruta para ejecutarse. No se recomienda su uso cuando el código se utilizará en distintos dispositivos. **La dirección del path no cambia.**\n",
    "- Los relativos accede a un camino más acotado, no desde el directorio raíz. Puede fallar cuando se trabaja en un directorio distinto del esperado. **La dirección del path cambia dependiendo de la carpeta donde se ejecuta.**\n",
    "\n",
    "👀👀**Usar solo paths relativos**👀👀\n",
    "\n",
    "Los paths se dividen en dos partes:\n",
    "- `dirname` (nombre del directorio) que es la carpeta donde se encuentra.\n",
    " ```python\n",
    "path_a = '/carpeta1/carpeta2/archivo.extension'\n",
    "dir_name = os.path.dirname(path_a)\n",
    "```\n",
    "- `basename` (nombre del archivo/directorio) que muestra el nombre del archivo/directorio y su extensión.\n",
    " ```python\n",
    "path_a = '/carpeta1/carpeta2/archivo.extension'\n",
    "base_name = os.path.basename(path_a)\n",
    "```\n",
    "\n",
    "La extensión representa el tipo de archivo y le indica tanto al usuario como al sistema que programa usar para ejecutarlo. Sin embargo, la extensión no siempre indica correctamente el tipo de archivo.\n",
    "\n",
    "#### Módulo [`os`](https://docs.python.org/3/library/os.html)\n",
    "\n",
    "- `os.path` permite ejecutar operaciones sobre los *paths* de los archivos.\n",
    "- Para asegurar la compatibilidad de un *path* en todo sistema operativo, se puede usar `os.path.join`. Al cual se le entregan los \"pasos\" del *path* y lo retorna como el *path* correcto.\n",
    "- La función `os.listdir` recibe un *path* y retorna una lista con los archivos y directorios que se encuentran **directamente** dentro de este.\n",
    "- La función `os.walk` puede entregar las rutas de un directorio, subdirectorio y sus archivos. Permitiendo navegar dentro de una carpeta y ver todos los *paths*.\n",
    "\n",
    "#### Módulo [`pathlib`](https://docs.python.org/es/3/library/pathlib.html#pathlib.Path)\n",
    "\n",
    "Este módulo permite trabajar con *paths* como objetos. La clase `Path` cuenta con múltiples métodos, por ejemplo:\n",
    "- `path.name`: Entrega el nombre del archivo junto a su extensión.\n",
    "- `path.suffix`: Retorna la extensión del archivo.\n",
    "- `path.is_dir`: Retorna un bool indicando si es un directorio.\n",
    "- `path.is_file`: Retorna un bool indicando si es un archivo.\n",
    "- `path.absolute`: Entrega el *path* absoluto.\n",
    "- `path.exists`: Informa (mediante un *bool*) si el archivo/directorio existe en el *path* que se está trabajando.\n",
    "- `path.read_text`: Lee el contenido de un archivo de texto.\n",
    "- `path.iterdir`: Funciona como `listdir` de `os`, permitiendo iterar sobre un directorio.\n"
   ]
  },
  {
   "cell_type": "markdown",
   "metadata": {},
   "source": [
    "## Terminal"
   ]
  },
  {
   "cell_type": "markdown",
   "metadata": {},
   "source": [
    "La terminal/consola es una interfaz que permite la comunicación con el computador mediante comandos. Al abrir múltiples terminales, se pueden ejecutar múltiples códigos simultáneamente.\n",
    "\n",
    "La terminal se abre de forma distinta en cada sistema operativo:\n",
    "- Windows: barra de inicio -> buscar \"cmd\" -> abrir \"Command prompt\"\n",
    "- Linux: ` Ctrl + Alt + T `\n",
    "- macOS: Finder -> /Aplicaciones/Utilidades -> \"Terminal\" (También se puede abrir directamente desde una carpeta)\n",
    "\n",
    "Para ingresar un comando, se sigue el formato: `comando argumentos* -opciones*`\n",
    "\n",
    "A continuación se explican los comandos más importantes:\n",
    "- `pwd` (linux y macos) o `cd` (windows): **P**rint **W**orking **D**irectory. Permite ver el directorio actual, retornando el *path* absoluto.  En windows, ocurre si no se agregan argumentos.\n",
    "- `cd` (windows, linux y macos): **C**hange **D**irectory. Permite acceder a un directorio, cambiando el actual. Se debe agregar un *path* absoluto o relativo como argumento.\n",
    "- `ls` (linux y macos) o `dir` (windows): **L**i**s**t o **Dir**ectory. Entregan una lista con los contenidos de un determinado directorio.\n",
    "- `mkdir` (windows, linux y macos): **M**a**k**e **Dir**ectory. Crea una nueva carpeta, toma el argumento entregado como nombre. También se le puede dar un *path*.\n",
    "- `echo` (windows) o `touch` (linux y macos): Permiten crear un nuevo archivo. En el caso de `echo`, se entrega en el formato `echo \"TEXTO\" > NOMBRE_ARCHIVO.extensión`, texto puede ser un string vacío. En el caso de `touch`, se \"toca\" el archivo para ver si existe en esa ruta, en el caso de que no existe, crea un archivo vacío con el nombre dado. Si existe, modifica su fecha de último acceso (_timestamp_). Esto se hace en el formato `touch nombre_archivo.extension`\n",
    "\n",
    "#### Ejecución `python` en terminal\n",
    "\n",
    "Este formato de ejecución permite saber donde se está ejecutando, evitar problemas de apertura, `imports` y *paths* relativos y ejecutar múltiples archivos simultáneamente.\n",
    "\n",
    "- Para abrir Python, hay que escribir `python` o `python3` en la terminal. \n",
    "- Para ejecutar scripts, primero se accede a la carpeta donde se encuentra el script a ejecutar y se escribe `python nombre_archivo.extension`. También se puede acceder a un archivo que no esté en el directorio actual, utilizando su ruta absoluta o relativa. Sin embargo, puede generar errores.\n",
    "\n",
    "Errores:\n",
    "- Si una ruta o archivo están mal escritos, Python indica que el archivo no existe. `[Errno 2] No such file or directory`.\n",
    "- Si un archivo usa rutas relativas, se pueden generar conflictos según donde se ejecute. Para esto, se debe tener en cuenta la carpeta donde se ejecuta el código."
   ]
  },
  {
   "cell_type": "markdown",
   "metadata": {},
   "source": [
    "## Git"
   ]
  },
  {
   "cell_type": "markdown",
   "metadata": {},
   "source": [
    "Git es un sistema distribuido de control de versiones. Lo usaremos para descargar y subir los contenidos, enunciados, etc. Trabajaremos con repositorios, los cuales consisten en almacenamiento virtual de un conjunto de archivos. Guardando todas las versiones que han sido almacenadas. Este proceso ocurre en 4 ubicaciones:\n",
    "- Carpeta del computador\n",
    "- Lista de cambios\n",
    "- Repositorio local\n",
    "- Repositorio remoto\n",
    "\n",
    "Comandos:\n",
    "- `git clone`: Permite clonar repositorios. Se le entrega como argumento el link del repositorio a clonar.\n",
    "- `git pull`: Toma los contenidos del repositorio remoto y los trae al repositorio local. Se debe hacer constantemente para actualizar los cambios realizados.\n",
    "- `git add`: Le informa a git que queremos subir información. Se puede poner como argumento el nombre o *path* de un archivo, también se puede agregar un punto para subir todos los cambios de la carpeta actual (`git add .`). \n",
    "- `git commit -m \"mensaje\"`: Crea una nueva versión. Con esto ya es parte del repositorio local.\n",
    "- `git push`: Envía la información que no ha sido subida del repositorio local al remoto.\n",
    "- `git status`: Entrega información sobre el estado del repositorio. Puede indicar el siguiente paso, información que no ha sido subida, etc.\n",
    "\n",
    "*Tokens*: Es una forma de autentificar, alternativa a contraseñas. "
   ]
  },
  {
   "cell_type": "markdown",
   "metadata": {},
   "source": [
    "# Semana 3 - Estructuras de datos"
   ]
  },
  {
   "cell_type": "markdown",
   "metadata": {},
   "source": [
    "## Estructuras de datos"
   ]
  },
  {
   "cell_type": "markdown",
   "metadata": {},
   "source": [
    "Una estructura de datos permite agrupar y manipular conjuntos de datos eficientemente. Estas se clasifican en 2 grupos:\n",
    "- Estructuras de datos secuenciales: Se basan en un ordenamiento secuencial de elementos, dependen de como son ingresados. Permiten recorrer datos en el orden establecido. Pertenecen `tuple`, `list`, `str`, *stacks* y *colas*.\n",
    "- Estructuras de datos no secuenciales: Almacenan sin definir un orden fijo de acceso. Por esto, permiten recorrer pero no se garantiza el orden en que se entregarán los elementos ni si este será constante. Tienen una ventaja en su eficiencia en la búsqueda de datos. Pertenecen diccionarios, *sets*, árboles, grafos y *heaps*."
   ]
  },
  {
   "cell_type": "markdown",
   "metadata": {},
   "source": [
    "## Tuplas"
   ]
  },
  {
   "cell_type": "markdown",
   "metadata": {},
   "source": [
    "Una tupla (`tuple`) se utiliza para manejar datos de forma **ordenada** e **inmutable**, por lo que no se pueden cambiar los valores que contiene. Para acceder a los elementos, se debe saber su índice. Pueden incluir distintas clases o tipos de datos, incluso otras tuplas.\n",
    "\n",
    "Se pueden crear de las siguientes maneras_\n",
    "```python\n",
    "tupla1 = tuple() #tupla vacía\n",
    "tupla2 = (0, 1, 2) #se entregan los elementos explícitamente\n",
    "tupla3 = (0, ) #si es de tamaño 1, se debe agregar una coma al final\n",
    "tupla4 = 0, \"uno\", [0, \"uno\"] #tupla con distintos tipos, se pueden omitir ()\n",
    "```\n",
    "\n",
    "- Después de ser creada, la tupla no puede ser modificada. \n",
    "- Tampoco se pueden asignar posiciones en la forma `nombre_tupla[indice] = valor`.\n",
    "- Si se pueden modificar elementos dentro de una tupla en caso de que sean de tipos mutables. Por ejemplo, una lista.\n",
    "- Cuando una función retorna más de un valor, lo hace en formato de tuplas!\n",
    "- Las tuplas se pueden separar en variables individuales (desempaquetar). Esto se hace igualando múltiples nuevas variables a una tupla. Donde se le asigna un elemento de la tupla a cada variable.\n",
    "```python\n",
    "a, b, c, d = tupla_x #la tupla tiene 4 elementos\n",
    "```\n",
    "- También se puede llamar a un elemento de la tupla indicando su índice entre [].\n",
    "- Este desempaquetamiento se puede realizar con un solo operador `*`! Esto sirve cuando una tupla es de largo desconocido o cuando solo queremos almacenar ciertos elementos sin eliminar los otros. \n",
    "```python\n",
    "*nombre_tupla #retorna los elementos de la tupla por separado, \"recorriendo\" la tupla\n",
    "```\n",
    "\n",
    "Es posible manipular tuplas mediante *slicing*. A continuación se presentan los formatos de *slicing*:\n",
    "- `a[start:end]`: retorna los elementos desde `start` hasta `end - 1`.\n",
    "\n",
    "- `a[start:]`: retorna los elementos desde `start` hasta el final.\n",
    "\n",
    "- `a[:end]`: retorna los elementos desde el principio hasta `end - 1`.\n",
    "\n",
    "- `a[:]`: crea una copia.\n",
    "\n",
    "- `a[start:end:step]`: retorna los elementos desde `start` hasta no pasar `end`, en pasos de a `step`.\n",
    "\n",
    "- `a[-1]`: retorna el último elemento.\n",
    "\n",
    "- `a[-n:]`: retorna los últimos `n` elementos en el arreglo.\n",
    "\n",
    "- `a[:-n]`: retorna todos los elementos del arreglo menos los últimos `n` elementos.\n",
    "\n",
    "Las tuplas también se presentan en estructuras llamadas *named tuples*. Acá se entrega una definición/nombre a cada posición de la tupla (ingresada). Esto hace que el código sea más explícito y claro. Mantiene las propiedades inmutables de las tuplas. Para usarlas, se debe importar el módulo `namedtuple` de la librería `collections`.\n",
    " ```python\n",
    "from collections import namedtuple\n",
    "\n",
    "tupla_nombrada = namedtuple(\"nombre_tupla\", [\"dato1\", \"dato2\", ...])\n",
    "```\n",
    "Luego, es posible acceder a los elementos mediante sus nombres:\n",
    " ```python\n",
    "...\n",
    "tupla1 = tupla_nombrada(valor_dato1, valor_dato2, ...)\n",
    "\n",
    "a = tupla1.dato1\n",
    "```\n",
    "Esto retornará el valor del dato 1!"
   ]
  },
  {
   "cell_type": "markdown",
   "metadata": {},
   "source": [
    "## Stacks y colas"
   ]
  },
  {
   "cell_type": "markdown",
   "metadata": {},
   "source": [
    "#### Stacks\n",
    "\n",
    "Los *stacks*/pilas son estructuras de datos que funcionan como si apilaran los objetos en una torre. De esta manera, siempre sacamos el último elemento que fue añadido. A esto se le llama dato de tipo  ***Last In, First Out*** (LIFO).\n",
    "\n",
    "Las principales operaciones de los stacks son:\n",
    "| Operación                                  | Código Python            |Descripción                                           |\n",
    "|--------------------------------------------|--------------------------|------------------------------------------------------|\n",
    "| Crear *stack*                              | `stack = []`             |Crea un *stack* vacío                                 |\n",
    "| *Push*                                     | `stack.append(elemento)` |Agrega un elemento al tope del *stack*                |\n",
    "| *Pop*                                      | `stack.pop()`            |Retorna y extrae el elemento del tope del *stack*     |\n",
    "| *Peek*                                     | `stack[-1]`              |Retorna el elemento del tope del *stack* sin extraerlo|\n",
    "| *length*                                   | `len(stack)`             |Retorna la cantidad de elementos en el *stack*        |\n",
    "| *is\\_empty*                                | `len(stack) == 0`        |Retorna `true` si el *stack* está vacío "
   ]
  },
  {
   "cell_type": "markdown",
   "metadata": {},
   "source": [
    "#### Colas (*queues*)\n",
    "\n",
    "Las colas son estructuras secuenciales que almacenan los datos en su orden de llegada. Funciona como una fila normal, donde cada vez que llega un elemento nuevo se añade al final de la cola y se \"ejecuta\" la primera. Por lo que es de tipo ***First-in, First-out*** (FIFO).\n",
    "\n",
    "Para colas simples (un extremo), se usan las operaciones:\n",
    "- *Enqueue*: Se usa un `append` en la lista.\n",
    "- *Dequeue*: Se puede usar `pop(0)` pero no es eficiente! Viene de *double-ended queue*. \n",
    "- *Peek*: Se puede ver un elemento de la cola sin sacarlo mediante `nombre_cola[indice]`"
   ]
  },
  {
   "cell_type": "markdown",
   "metadata": {},
   "source": [
    "#### Módulo `deque` para trabajar con *stacks* y colas\n",
    "\n",
    "Para trabajar en *dequeue* como alternativa a `pop(0)`, podemos usar el módulo `deque` de la librería `collections`. A continuación se presenta la importación y sus principales métodos:\n",
    "```python\n",
    "from collections import deque\n",
    "```\n",
    "\n",
    "| Operación      | Código Python                | Descripción                                                      |\n",
    "|----------------|------------------------------|------------------------------------------------------------------|\n",
    "| Crear *deque*  | `deque()`                    | Crea un *deque*/cola vacío                                            |\n",
    "| Crear *deque*  | `deque(lista)`               | Crea un *deque* a partir de los elementos de una lista           |\n",
    "| *Add first*    | `deque.appendleft(elemento)` | Agrega un elemento al inicio del *deque*                         |\n",
    "| *Add last*     | `deque.append(elemento)`     | Agrega un elemento al final del *deque*                          |\n",
    "| *Delete first* | `deque.popleft()`            | Retorna y extrae el primer elemento del *deque*                  |\n",
    "| *Delete last*  | `deque.pop()`                | Retorna y extrae el último elemento del *deque*                  |\n",
    "| *First*        | `deque[0]`                   | Retorna sin extraer el primer elemento del *deque*               |\n",
    "| *Last*         | `deque[-1]`                  | Retorna sin extraer el último elemento del *deque*               |\n",
    "| *length*       | `len(deque)`                 | Retorna el número de elementos en el *deque*                     |\n",
    "| *Is empty*     | `len(deque) == 0`            | Retorna true si el *deque* está vacío                            |\n",
    "| *Clear*        | `deque.clear()`              | Limpia el *deque*                                                |\n",
    "| *Remove*       | `deque.remove(elemento)`     | Saca el primer elemento del *deque* que sea igual a `elemento`   |\n",
    "| *Count*        | `deque.count(elemento)`      | Cuenta el número de elementos iguales a `elemento` en el *deque* |\n",
    "\n",
    "\n",
    "Muchas funciones de `deque` coinciden con `list`. Sin embargo, son más eficientes en distintas situaciones.\n",
    "- Acceder a un elemento en la mitad de una cola -> `list`\n",
    "- Extraer un elemento del inicio de una cola -> `deque`\n",
    "\n",
    "Cabe destacar que un `deque` permite simular *stacks* y colas, ya que puede hacer todas sus operaciones con la misma eficiencia"
   ]
  },
  {
   "cell_type": "markdown",
   "metadata": {},
   "source": [
    "## Diccionarios"
   ]
  },
  {
   "cell_type": "markdown",
   "metadata": {},
   "source": [
    "- Los diccionarios permiten asociar valores que conocemos a otros valores. \n",
    "- Es una estructura **no secuencial y mutable**. \n",
    "- Funcionan mediante una lógica de *key-value* (llave-valor), donde cada llave va asociada a un valor, cada valor puede tener más de una llave. \n",
    "- Esta es una estructura de mapeo ya que se *mapean* un valor a otro.\n",
    "- Se implementan mediante la clase `dict` con una notación de llaves (`{}`), asociando las llaves a sus valores con `:`.\n",
    "```python\n",
    "nombre_diccionario = {\n",
    "\"nombre llave_1\": (\"valor_1\", \"valor_2\", ...),\n",
    ".,\n",
    ".,\n",
    ".,\n",
    "\"nombre_llave_n\": (\"valor_1\", \"valor_2\", ...)\n",
    "}\n",
    "```\n",
    "- Se puede acceder a un valor asociado a una llave mediante corchetes (`{}`) en el formato. También sirve el método [`get`](https://docs.python.org/3/library/stdtypes.html#dict.get), el cual requiere de la llave buscada y un valor en caso de que la llave no exista. Si no se ingresa un segundo parámetro, se retorna `None`.\n",
    "```python\n",
    "valor_1 = nombre_diccionario[nombre_llave] \n",
    "valor_2 = nombre_diccionario.get(\"nombre_llave\", \"nombre_valor\")\n",
    "```\n",
    "- Si la llave que se consulta no existe, aparece un error de tipo `KeyError`.\n",
    "- Si se asigna un valor a una llave que no existe, se crea y se le asigna un valor. Si la llave existe se actualiza el nuevo valor.\n",
    "- Las llaves y los valores no deben ser del mismo tipo (en C# y Java si deben serlo).\n",
    "- Se pueden eliminar valores con `del`-> `del nombre_diccionario[nombre_llave]`. Si la llave no existe surge un `KeyError`\n",
    "- Para comprobar la existencia de una llave se usa `\"nombre_llave\" in nombre_diccionario`, retornando un bool que indica la existencia de la llave en el diccionario.\n",
    "- La operación `dict[llave]` es altamente eficiente ya que toma un tiempo constante sin importar el tamaño del diccionario. Sin embargo, busca una llave a partir de un valor no lo es ya que se debe recorrer cada llave.\n",
    "\n",
    "Las llaves deben ser *únicas*, si no lo son más de un valor podría quedar asociado a la misma llave. Además deben ser [*hasheables*](https://docs.python.org/3/glossary.html#term-hashable), esto significa que se le puede entregar la función de *hash*.\n",
    "Para que un objeto sea *hasheable*:\n",
    "- Debe implementar el método [`__hash__`](https://docs.python.org/3/reference/datamodel.html#object.__hash__), el cual retoena un int y sirve como entrada para la función de *hash* a la tabla de *hash*.\n",
    "- El valor retornado por `__hash__` debe ser constante durante todo el ciclo del objeto.\n",
    "- Implementa el método `__eq__`, el cual compara dos objetos y retorna un bool indicando la igualdad de estos.\n",
    "- Cuando los objetos de `__eq__` son iguales, `__hash__` debe ser el mismo. No es necesario que se cumpla al revés.\n",
    "Todo ***built-in* inmutable** de python es ***hasheable***. Es por esto que tipos como `int`, `str` o `tuple` si pueden ser usados como llaves y `list` no.\n",
    "Para encontrar el valor de *hash*, descubrir si 2 variables tienen el mismo *hash* y si son el mismo objeto usamos, respectivamente:\n",
    "```python\n",
    "hash(nombre_variable) #se evalua para cada variable\n",
    "nombre_variable1 == nombre_variable2 #retorna bool\n",
    "nombre_variable1 is nombre_variable2 #retorna bool\n",
    "```\n",
    "Las clases creadas por usuarios son *hasheables* por defecto, ya que el método `__hash__` retorna un valor único y fijo, el método `__eq__` retorna `True` solo si corresponde al mismo objeto por lo que en este caso siempre se cumplirá. Esto ocurre incluso si se usan elementos **no *hasheables*** en algún atributo, ya que *hash* no depende de los valores de los atributos de la instancia!\n",
    "\n",
    "En diccionarios se utilizan los métodos:\n",
    "- `keys()`: Entrega todas las llaves del diccionario.\n",
    "- `values()`: Retorna todos los valores del diccionario.\n",
    "- items()`: Proporciona cada par *key-value* dentro del diccionario, donde cada uno se presenta en forma de tupla.\n",
    "\n",
    "Los diccionarios por compresión se pueden definir a partir de un concepto estructurado, permitiendo utilizar condiciones dentro de este.\n",
    "```python\n",
    "nombre_diccionario = {\n",
    "    llaves_iterables: valor for a in range(rango)\n",
    "if variable condicion\n",
    "} #Acá se pueden modificar las formas de iterar y las condiciones, además la condición es opcional."
   ]
  },
  {
   "cell_type": "markdown",
   "metadata": {},
   "source": [
    "#### Defaultdics\n",
    "\n",
    "Los `defaultdicts` permiten asignar un valor por defecto a cada llave en el diccionario. Esto sirve para evitar el problema de casos donde un valor no existe. Estos reciben una función (*callable*), que retorna un valor asignado por defecto, no deben recibir parámetros, pueden realizar cualquier acción y  devolver cualquier objeto para asociar como valor a su llave respectiva.\n",
    "\n",
    "Al aplicarlo se puede entregar como *callable* un tipo (ej: int) o una función (ej: random), los cuales asocian un valor perteneciente a este *callable* a toda llace que no exista.\n",
    "\n",
    "`defaultdict` se debe importar de `collections`!!!"
   ]
  },
  {
   "cell_type": "markdown",
   "metadata": {},
   "source": [
    "## Sets"
   ]
  },
  {
   "cell_type": "markdown",
   "metadata": {},
   "source": [
    "- Los *sets* son contenedores **mutables**, **no *hasheables***, **no ordenados** y **no repiten elementos**. \n",
    "- Pueden contener cualquier objeto *hasheable*, al igual que en un diccionario ya que también usan *tablas de hash* para almacenar los datos. \n",
    "- Normalmente se utilizan para eliminar duplicados o para ver si un elemento se encuentra en la estructura (de forma eficiente), ya que esto último toma un tiempo constante. \n",
    "- No es posible acceder a un índice, ya que no tienen orden. Esto da un error de tipo `TypeError`.\n",
    "\n",
    "Para implementarlos, se utiliza la clase `set`.\n",
    "- Se puede crear un set vacío con `set()`\n",
    "- Otra forma de hacer un set es con llaves (`{}`) donde cada elemento va separado por una coma. Esto no puede ir vacío ya que se crearía un diccionario.\n",
    "- También se pueden crear a partir de un elemento de tipo `list`.\n",
    "\n",
    "Los sets también se pueden comprimir como con listas y diccionarios, permitiendo definiciones más complejas."
   ]
  },
  {
   "cell_type": "markdown",
   "metadata": {},
   "source": [
    "#### Operaciones sobre *sets*\n",
    "\n",
    "- `len()`: Retorna la cantidad de elementos.\n",
    "- `nombre_set.add()`: Añade elemento(s). Si el elemento que se intenta agregar ya existe, no ocurre nada.\n",
    "- `nombre_set.remove()`: Elimina un elemento del *set*. Si no existe, da error `KeyError`.\n",
    "- `nombre_set.discard()`: Cumple la misma función de `remove` sin lanzar error en caso de que no exista.\n",
    "- `for iterador in nombre_set`: Permite iterar por el *set*. Al no ser una estructura ordenada, no se hace en un orden específico. Pero cada elemento se recorre solo una vez.\n",
    "- `elemento in nombre_set`: Mediante la sentencia `in`, es posible saber si un elemento pertenece al *set*. Al contrario de las listas, el tiempo de esto no depende del tamaño.\n",
    "- `set_a | set_b`: Esto retorna la **unión** entre los *sets* dados. Sin alterar los *sets* originales. Por lo que el set resultante contará con todos los elementos que se encuentran tanto en el `set_a` como en el `set_b, sin repeticiones. También sirve `set_a.union(set_b)`\n",
    "- `set_a & set_b`: Retorna la **intersección** entre los conjuntos. Por lo que se recibe un *set* con todos los valores que pertenezcan a **ambos** sets. También sirve `set_a.intersection(set_b)`.\n",
    "- `set_a - set_b`: Retorna la diferencia entre los *sets*. Por lo que se recibiría un *set* con los valores de `set_a`, eliminando los que también pertenecen a `set_b`. También sirve `set_a.difference(set_b)`\n",
    "- `set_a ^ set_b`: Esto retorna los elementos no comunes entre los *sets*, esto es el conjunto total sin la intersección. También sirve `set_a.symmetric_difference(set_b)`.\n",
    "\n",
    "##### Comparación de conjuntos\n",
    "- Subconjuntos (*subset*): Todo elemento del conjunto pertenece a otro conjunto (`<=`). Si no se incluye la igualdad, es un subconjunto propio. Se puede ver si se cumple con `nombre_set.issubset()`.\n",
    "- Superconjuntos (*superset*): Todos los elementos de otro conjunto pertenecen al conjunto del que se habla (`>=`). Cuando no se incluye la igualdad, es un superconjunto propio. Se puede ver si se cumple con `nombre_set.issuperset()`.\n",
    "- Conjuntos iguales: Los elementos de los conjuntos son idénticos (`==`)."
   ]
  },
  {
   "cell_type": "markdown",
   "metadata": {},
   "source": [
    "## `args` y `kwargs`"
   ]
  },
  {
   "cell_type": "markdown",
   "metadata": {},
   "source": [
    "`args` viene del término *arguments* y `kwargs` de *keyword arguments*. Permiten describir una cantidad variable de argumentos o parámetros dentro de la definición de una función.\n",
    "\n",
    "Al añadir el nombre de un parámetro, es posible presentarlos de forma desordenada al momento de llamar a la función. A partir de esto, *Python* divide los argumentos entre:\n",
    "- Argumentos posicionales(*positional argument*): No vienen acompañados por palabras claves, por lo que sigue el orden de establecimiento.\n",
    "- Argumentos por palabras claves(*keyword argument*): Viene precedido por un identificador (`name=`) utilizado al llamar a la función.\n",
    "\n",
    "Es posible establecer argumentos de ambos tipos en la misma llamada. Sin embargo, **no** pueden existir argumentos posicionales **después** de los argumentos por palabras claves. Además, no se puede establecer un argumento mediante palabra clave si ya fue establecido por posición.\n",
    "Ejemplos válidos:\n",
    "```python\n",
    "ejemplo('hola', 'mundo', 42)\n",
    "ejemplo('hola', 'mundo', c=42)\n",
    "ejemplo('hola', b='mundo', c=42)\n",
    "ejemplo('hola', c=42, b='mundo')\n",
    "ejemplo(a='hola', b='mundo', c=42)\n",
    "ejemplo(c=42, a='hola', b='mundo')\n",
    "```\n",
    "Por lo tanto posicionales -> por palabras claves.\n",
    "\n",
    "##### Desempaquetamiento de argumentos\n",
    "Es posible desempaquetar argumentos mediante el uso de `*` o `**` con cantidades variables de argumentos. Los cuales se pueden usar simultáneamente, mientras siga las reglas generales.\n",
    "- `func(*argumentos)`: Donde los argumentos son de tipo **lista o tupla** (o cualquier objeto iterable). Estos permiten desempaquetar su contenido y establecerlos como argumentos posicionales al momento de ser llamadas.\n",
    "- `func(**argumentos)`: Los argumentos son de tipo **diccionario**. Los cuales permiten desempaquetar los pares *key-value* y establecer argumentos por palabra clave.\n",
    "\n",
    "##### Cantidades variables de parámetros\n",
    "Al definir una cantidad variable de parámetros surge una flexibilidad a la hora de definir y llamar funciones. Esto permite usar una función en distintas situaciones. Para hacerlo, se definen valores por defecto de parámetros, que toman un valor determinado si no son declarados. \n",
    "Al hacer esto, surge la resticción de la importancia del orden. Donde no es posuble declarar argumentos sin un valor por defecto luego de haber agregado argumentos con valor por defecto.\n",
    "\n",
    "- `*args`: Cantidad arbitraria de argumentos **posicionales**. De esta manera, al recibir los argumentos, se contienen en una **tupla** la cual es accesible por `args`.\n",
    "- `**kwargs`: Cantidad arbitraría de argumentos **por palabra clave**. De esta manera, al recibir los argumentos, se contienen en un **diccionario** el cual es accesible por `kwargs`.\n",
    "\n",
    "Al usar este método, se deben seguir sus formatos. Por lo que:\n",
    "- Solo se pueden usar argumentos de un tipo si este se encuentra en los parámetros. \n",
    "- Es posible establecer ambos métodos simultáneamente.\n",
    "- `*args` se lleva a los argumentos posicionales no mencionados.\n",
    "- `**kwargs` se lleva a los argumentos por palabra clave que no fueron declarados.\n",
    "- Es posible declarar argumentos entre `args` y `kwargs` solo si son por palabra clave.\n",
    "- No se puede repetir el uso de `*` ni de `**`.\n",
    "\n",
    "Desde la versión [3.8](https://peps.python.org/pep-0570/) de *Python* es posible especifcar en declaración que un argumento solo puede declararse por posición.\n",
    "\n",
    "\n",
    "\n",
    "👀 [Argumentos != Parámetros](https://docs.python.org/3/faq/programming.html#what-is-the-difference-between-arguments-and-parameters) 👀\n",
    "- Argumentos: Valores efectivos que se le entregan a una función al momento de **llamarla**.\n",
    "- Parámetros: \"nombres\" que recibe una función y que se declaran en su **definición**."
   ]
  },
  {
   "cell_type": "markdown",
   "metadata": {},
   "source": [
    "# Semana 4 - OOP avanzado"
   ]
  },
  {
   "cell_type": "markdown",
   "metadata": {},
   "source": [
    "## Herencia"
   ]
  },
  {
   "cell_type": "markdown",
   "metadata": {},
   "source": [
    "La herencia (*inheritance*) es una relación entre especialización y generalización de clases. Donde una clase puede heredar atributos y métodos de otra. La clase que hereda, es llamada **subclase**, la cual presenta todos los métodos de la clase que le está heredando(superclase) y también posee sus propias carácteristicas(especialización). Esto nos permite reutilizar código! Es posible trabajar con herencia utilizando clases *built-in*.\n",
    "\n",
    "Al momento de implementar una herencia se debe:\n",
    "```python\n",
    "class NombreSubclase (NombreSuperclase):\n",
    "    def __init__(self, parámetros_superclase, parámetros_subclase):\n",
    "        NombreSuperclase.__init(self, parámetros_superclase)\n",
    "        # luego se pueden definir nuevos parámetros\n",
    "    #a partir de esto, es posible agregar nuevos métodos o editar métodos heredados**\n",
    "```\n",
    "\n",
    "#### *Overriding*\n",
    "Este fenómeno consiste en la sobreescritura de métodos. Cuando se quiere modificar un método heredado sin cambiar su nombre. Para hacerlo, podemos modificar directamente el parámetro.\n",
    "\n",
    "#### `super()`\n",
    "Este método permite utilizar implementar un método de la superclase sin necesidad de nombrarla. Esto se hace en el formato `super().nombre_método(argumentos)`. Además evita algunos posibles errores que pueden surgir a lo largo del código o en casos de multiherencia.\n",
    "```python\n",
    "class NombreSubclase (NombreSuperclase):\n",
    "    def __init__(self, parámetros_superclase, parámetros_subclase):\n",
    "        super().__init__(parámetros_superclase, parámetros_subclase)\n",
    "        # luego se pueden definir nuevos parámetros\n",
    "```\n",
    "\n"
   ]
  },
  {
   "cell_type": "markdown",
   "metadata": {},
   "source": [
    "## Polimorfismo"
   ]
  },
  {
   "cell_type": "markdown",
   "metadata": {},
   "source": [
    "Es la propiedad que permite enviar mensajers idénticos a distintos tipos de objetos. Por lo que permite usar distintos tipos con la misma interfaz. Se puede hacer mediante:\n",
    "\n",
    "#### *Overriding*\n",
    "Ocurre cuando se implementa un método en una subclase, la cual sobreescribe la implementación de este.\n",
    "\n",
    "#### *Overloading*\n",
    "Permite definir un método con el mismo nombre pero distintos números y tipos de parámetros. De esta manera, una función puede ejecutar distintas acciones dependiendo del tipo y número de argumentos recibidos. Sin embargo, esto no es soportado por *Python* . Se puede aplicar en situaciones como `+` el cual permite concatenar o sumar usando el mismo \"nombre\" y se puede modificar mediante el método `__add__`. También se puede para *less than* con `__lt__`.\n",
    "\n",
    "#### `__repr__` y `__str__`\n",
    "Estos métodos entregan una representación en texto de un objeto, retornando *strings* que pueden ser usados por `print`, el cual prioriza a `__str__` en los casos donde se usan ambos.\n",
    "- `__str__`: Devuelve una representación legible del objeto, para que el usuario lea esa información.\n",
    "- `__repr__`: Ofrece una representación completa del objeto. Por lo que da información a desarrolladores.\n",
    "\n",
    "#### Duck typing\n",
    "Si obligamos a que el programa siga un tipo de comprtamiento, ya sea con un valor o un tipo. Esto no ocurrirá, ya que *Python* sigue una lógica donde no importa de qué tipo sea un objeto mientras contenga la acción."
   ]
  },
  {
   "cell_type": "markdown",
   "metadata": {},
   "source": [
    "## Multiherencia"
   ]
  },
  {
   "cell_type": "markdown",
   "metadata": {},
   "source": [
    "Es posible que hayan más de una \"generación\" de herencias, al igual que pueden existir subclases que hereden de más de una superclase. Esto último es la multiherencia.\n",
    "\n",
    "Acá es conveniente implementar `super()` al igual que `**kwargs` de nuevas maneras. Para evitar el problema del diamante...\n",
    "\n",
    "#### El problema del diamante\n",
    "Ocurre cuando se presenta más de un camino dentro de una jerarquía para llegar de una superclase a una subclase. Esto ocurre debido a una clase superior, llamada [`object`](https://docs.python.org/3.6/library/functions.html#object), de la cual heredan **todas** las clases. Es por esto que cuando una clase hereda de 2 o más clases, `object` se inicializa para cada clase heredada.\n",
    "\n",
    "Para solucionarlo, se debe llamar a las clases en el orden del esquema de multiherencia. Para esto, usamos `super`. La jerarquía se ordena de izquierda a derecha dentro de las superclases de donde hereda la subclase.\n",
    "```python\n",
    "#luego de definir las superclases\n",
    "class NombreSubclase (NombreSuperclase1, NombreSuperclase2, ...):\n",
    "    def metodo_1(self, parámetros):\n",
    "        super().metodo_1(parámetros_og)\n",
    "        #otras funciones dentro del método\n",
    "```\n",
    "Acá estamos reemplazando las iniciaciones explícitas de las superclases, llamando al método únicamente mediante `super()`. Al hacer esto, es necesario llamar a todos los argumentos presentados por las superclases. En caso de no hacerlo, se presenta un `AtributeError`. Además, ya que la cantidad de argumentos se hace variable, necesitamos usar `*args` y `**kwargs`. Para esto, llamamos a `*args` y `**kwargs` luego de mencionar los parámetros que estamos introduciendo a la jerarquía y como argumento en `super()`. Donde estos guarda la información y se utiliza para entregarlo a los siguientes niveles de la jerarquía sin repetir datos.\n",
    "\n",
    "👀 OjO: El uso de `super()` no es recomendable cuando el método que se repite se debe cumplir para cada superclase en la subclase. En este caso, se debe instanciar individualmente. 👀\n",
    "\n",
    "Para obtener el orden de herencia, usamos el método `__mro__`. Esto surge del algoritmo [C3](https://www.python.org/download/releases/2.3/mro/), el cual calcula un orden lineal entre las clases y se ejecuta mediante `__mro__` (_method resolution order_) y retorna la jerarquía desde la clase actual en el siguiente formato:\n",
    "```python\n",
    "(__main__.NombreSubclaseActual,\n",
    "__main.NombreClaseQueHeredaASubclaseActual1,\n",
    "...)\n",
    "```\n",
    "El `__mro__` debe ser armable para que una jerarquía de multiherencia sea válida."
   ]
  },
  {
   "cell_type": "markdown",
   "metadata": {},
   "source": [
    "## *Properties*"
   ]
  },
  {
   "cell_type": "markdown",
   "metadata": {},
   "source": [
    "#### Encapsulamiento\n",
    "Esto puede ocurrir a partir de atributos _públicos_ o _privados_. En el caso de *Python*, **todos** los atributos y métodos de una clase son **públicos**. Al iniciar el nombre de un atributo o método con _underscore_ (guión bajo) es una convención pero no asegura un carácter privado. Una consecuencia de tener atributos privados (o casi privados) es que si queremos modificarlos tenemos que, forzosamente, utilizar un método. Para obtener y actualizar el valor de un atributo privado se utilizan los métodos ***getters*** y ***setters***.\n",
    "\n",
    "#### *Properties*\n",
    "Una *property* funciona como un atributo cuyo comportamiento se puede modificar en cada lectura (**`get`**), escritura (**`set`**), o eliminación (`del`).\n",
    "Al utilizar un atributo público, es posible que se modifique de una forma distinta a la que se requiere. Mediante el uso de *properties*, podemos asegurar de que cada modificación cumpla con características dadas.\n",
    "\n",
    "##### Formas de aplicar *properties*\n",
    "```python\n",
    "\n",
    "class NombreClase1:\n",
    "\n",
    "    def __init__(self, parametros):\n",
    "        self._nombreproperty1 = valor \n",
    "        \n",
    "    @property #decorador\n",
    "    def nombreproperty1(self):\n",
    "        return self._nombreproperty1\n",
    "\n",
    "    @nombreproperty.setter\n",
    "    def nombreproperty1(self, parametros):\n",
    "        condiciones\n",
    "\n",
    "class NombreClase2:\n",
    "\n",
    "    def __init__(self, parametros):\n",
    "        self._nombreproperty2 = valor \n",
    "        \n",
    "    def _get_nombreproperty2(self):\n",
    "        return self._nombreproperty2\n",
    "\n",
    "    def _set_nombreproperty2(self, parametros):\n",
    "        condiciones\n",
    "    \n",
    "    nombreproperty2 = property(_get_nombreproperty2, _set_nombreproperty2)\n",
    "```\n",
    "\n",
    "\n",
    "\n",
    "\n",
    "\n",
    "\n",
    "\n"
   ]
  },
  {
   "cell_type": "markdown",
   "metadata": {},
   "source": [
    "## Métodos estáticos (bonus)"
   ]
  },
  {
   "cell_type": "markdown",
   "metadata": {},
   "source": []
  },
  {
   "cell_type": "markdown",
   "metadata": {},
   "source": [
    "# Semana 5 -Modelación OOP e iterables"
   ]
  },
  {
   "cell_type": "markdown",
   "metadata": {},
   "source": [
    "## Clases abstractas"
   ]
  },
  {
   "cell_type": "markdown",
   "metadata": {},
   "source": [
    "- Son clases cuya intención no es ser instanciadas, si no que modelar otras clases. \n",
    "- Un **método abstracto** representa comportamiento que deben tener todas las clases que hereden de ella.\n",
    "- Los **método abstracto** tienden a implementarse de distintas formas en las clases que los heredan.\n",
    "- Los **método abstracto** **deben** ser implementados por las subclases, estableciendo un comportamiento mínimo. \n",
    "- Las clases abstractas pueden incluir métodos \"normales\" que no sean obligación de usar en sus subclases.\n",
    "\n",
    "Por lo que una clase es **abstracta**:\n",
    "- Es una clase que no se debería instanciar directamente\n",
    "- Contiene uno o más métodos abstractos\n",
    "- Sus subclases implementan todos sus métodos abstractos"
   ]
  },
  {
   "cell_type": "markdown",
   "metadata": {},
   "source": [
    "## Diagrama de clases"
   ]
  },
  {
   "cell_type": "markdown",
   "metadata": {},
   "source": [
    "## Iterables generadores"
   ]
  },
  {
   "cell_type": "markdown",
   "metadata": {},
   "source": [
    "#### Iterables\n",
    "Para iterar sobre estructuras de datos, hay que conocer el iterable(objeto sobre el cual se puede iterar) y el iterador. \n",
    "Un iterable siempre tiene **implementado el método** **`__iter__()`**. Estructuras *built-ins* como *sets*, listas y diccionarios, son **iterables**.\n",
    "Un **iterador** es un **objeto que itera sobre un iterable**, y es el objeto retornado por el método `__iter__()` y este implementa el método `__next__()`, que nos retorna uno a uno los elementos de la estructura cada vez que se invoca a esta función, hasta que se tenga que levantar una excepción de tipo `StopIteration`.\n",
    "Un **iterador** es un **iterable** en sí mismo; es decir, es un tipo de **iterable**.\n",
    "\n",
    "#### Generadores\n",
    "Son un caso especial de iteradores que no requieren de un almacenamiento en una estructura, evitando uso innecesario de memoria."
   ]
  },
  {
   "cell_type": "markdown",
   "metadata": {},
   "source": [
    "## Listas ligadas"
   ]
  },
  {
   "cell_type": "markdown",
   "metadata": {},
   "source": [
    "Un nodo es la base de una estructura de datos. Se trata de una unidad indivisible que contiene datos y se puede identificar por el atributo *key*. Estos tienen 0 o más referencias a **nodos vecinos** con los que se relaciona. Un conjunto de nodos permite generar estructuras de datos más complejas y expresivas para representar información.\n",
    "\n",
    "Una lista ligada es una estructura almacenadora de nodos en orden secuencial en que cada nodo posee una referencia a un único nodo **sucesor** (*next node*). El primer nodo de una lista ligada es denominado **cabeza** (*head*) de la lista, y el último, que no posee sucesor, es denominado **cola** (*tail*, último elemento). \n",
    "\n",
    "\n",
    "\n",
    "*******no terminé :(\n"
   ]
  },
  {
   "cell_type": "markdown",
   "metadata": {},
   "source": [
    "## Metaclases (bonus)"
   ]
  },
  {
   "cell_type": "markdown",
   "metadata": {},
   "source": [
    "# Semana 6 - Excepciones"
   ]
  },
  {
   "cell_type": "markdown",
   "metadata": {},
   "source": [
    "## Excepciones"
   ]
  },
  {
   "cell_type": "markdown",
   "metadata": {},
   "source": [
    "Cuando ocurren eventos inesperados durante el proceso computacional, el programa genera una alerta llamada **excepción**.\n",
    "\n",
    "Esto puede ocurrir por: operaciones no definidas, como intentar efectuar una división por cero; acceso a regiones prohibidas de la memoria, como intentar leer más allá de los límites de una lista; o intentar acceder a una *key* inexistente de un diccionario.\n",
    "\n",
    "También señalan cuando una acción no pudo ser ejecutada como se esperaba.\n",
    "\n",
    "\n",
    "\n",
    "\n",
    "\n",
    "\n",
    "\n",
    "\n",
    "Por ejemplo, al intentar construir un entero a partir de un *string* que trae un formato incorrecto: `int(\"34C\")`; intentar leer el valor de una variable que no hemos creado; o invocar un método inexistente en un objeto.\n",
    "\n",
    "Si bien muchos de estos casos podrían abordarse como casos especiales usando control de flujo, el tratarlos como una secuencia de `if`/`elif`/`else` hace que el código se vea más complicado de entender y mantener, ya que debemos cubrir una serie de casos particulares antes de poder seguir el flujo principal de nuestro programa, y cualquier condición nueva puede implicar reescribir varios casos de `if`/`elif`/`else` en distintas partes de nuestro código con la posibilidad cierta de introducir más errores.\n",
    "\n",
    "Es por esto que lenguajes de programación como Python permiten definir secciones de código donde las excepciones que se **generan**, gatillan, lanzan o levantan (*exception raise*) pueden ser **atrapadas** o **capturadas** (*exception catch*), y tratadas a través de un **flujo especial** en el cual la excepción puede ser **manejada** (*exception handling*) y puede ser corregida, reportada, ignorada o alguna otra acción que permita que el programa pueda continuar y regresar a un flujo normal.\n",
    "\n",
    "En general, cuando un programa lanza una excepción que no es manejada apropiadamente, esta es reportada al sistema operativo, el cual típicamente terminará el programa (en nuestro caso, el intérprete de Python) y veremos que nuestro programa se \"caerá\", posiblemente mostrando un mensaje que indica qué tipo de excepción se produjo."
   ]
  },
  {
   "cell_type": "markdown",
   "metadata": {},
   "source": [
    "## Levantamiento y manejo de excepciones"
   ]
  },
  {
   "cell_type": "markdown",
   "metadata": {},
   "source": [
    "## Excepciones personalizadas (bonus)"
   ]
  },
  {
   "cell_type": "markdown",
   "metadata": {},
   "source": [
    "# Semana 8 - Programación funcional"
   ]
  },
  {
   "cell_type": "markdown",
   "metadata": {},
   "source": [
    "## Paradigma funcional"
   ]
  },
  {
   "cell_type": "markdown",
   "metadata": {},
   "source": [
    "Existen los paradigmas procedimentales(programa lineal, paso a paso), vectoriales(secuenciales y analisis de calculos paralelos), declarativos(el usuario declara), orientados a objetos(las funcionalidades se modelan mediante objetos) y **funcionales**(procedimental de alto nivel, conjunto de funciones con *outputs* dependientes únicamente de los *inputs*)\n",
    "\n",
    "En la *programación funcional* el valor de retorno de una función depende **solamente** de los parámetros de entrada de la función. Acá, todo es visto como *output* de una función, el cual solo depende de su *input*. La única manera de cambiar el valor de una variable es asignando el *output* de otra función. Esto otorga un código de calidad y constante.\n",
    " \n",
    "\n",
    "#### Programación Estrictamente Funcional\n",
    "Esto ocurre cuando las funciones solo dependen de los parámetros de entrada (_input_) al momento de retornar un valor (_output_). Se le llama código **puro**. El nivel de pureza mide la dependencia de la función al sistema/programa/contexto.\n",
    "\n",
    "Al hacer una copia de un elemento dentro de la función, se genera un estado intermedio donde la función es dependiente de algo fuera de los *inputs* (la copia), por lo que no es 100% puro.\n",
    "\n",
    "Mediante la programación funcional 100% pura, el código será constante, presentando únicamente variables inmutables, evita efectos secundarios, se controlará de manera independiente a `for`, `while` y variables de almacenamiento, el programa estará basado en los flujos de transformación de datos y las funciones reciben únicamente un estado particular del dato."
   ]
  },
  {
   "cell_type": "markdown",
   "metadata": {},
   "source": [
    "## Funciones generadoras"
   ]
  },
  {
   "cell_type": "markdown",
   "metadata": {},
   "source": [
    "Sirven para iterar sobre datos sin necesitar estructuras de almacenamiento. Esto se hace gracias a la sentencia `yield`, esta es similar a `return` solo que también almacena información, por lo que para la próxima iteración se ejecutará desde donde se dejó antes.\n",
    "\n",
    "Al implementar una función generadora, esta retorna un **generador**, el cual funciona como un iterador de la función. `for` y `next` son funciones generadoras, donde implementan `__iter__` y retornan `self`.\n",
    "\n",
    "Una clase se puede convertir en generador mediante el uso del método `__iter__`. El método `send()` envía un valor al generador, el cual es recibido por `yield`.\n",
    "\n",
    "Otra función relevante en generadores es `next`la cual permite saltar a la siguiente iteración.\n",
    "\n",
    "Para que una función sea generadora debe contar con la presencia de `yield`. Sin embargo, no es necesario que esta sentencia sea ejecutada para hacerla una función generadora."
   ]
  },
  {
   "cell_type": "markdown",
   "metadata": {},
   "source": [
    "## Funciones retornan generadores"
   ]
  },
  {
   "cell_type": "markdown",
   "metadata": {},
   "source": [
    "Estas funciones se separan en dos grupos:\n",
    "\n",
    "#### Las que necesitan de una función para ser ejecutadas\n",
    "- `map(nombre_función, nombre_iterable)`: Recibe como parámetros una función y al menos 1 iterable y retorna un generador que aplica la función sobre el iterable. Por lo que `map(f, iterable) == (f(x) for x in iterable)`. La cantidad de iterables debe ser igual a la cantidad de parámetros que requiere la función.\n",
    "- `filter(nombre_función, nombre_iterable)`: Itera la función por el iterable entregado, retorna generador que entrega los elementos donde la función retorna `True`. Por lo que `filter(f, iterable) == (x for x in iterable if f(x))`.\n",
    "- `reduce`: Recibe una función y un iterable. Ejecuta la función entregada iterando a través de todos los datos del iterador, disminuyendo el proceso a un solo resultado. Se le puede añadir como argumento un inicializador, el cual será el primer elemento procesado por la función. Se le debe entregar más de un elemento al iterador para que se aplique la función. Cuando el se entrega un iterador vacío ocurre una excepción(`TypeError`), esto se puede evitar añadiendo un inicializador. Los resultados varían para operaciones no conmutativas(ej: división) al igual que con sets o iterables no ordenados.\n",
    "- `lambda`: Es una función anónima, que permite hacer uso de otras funciones sin definir una función al 100%. Esta se define de la forma `lambda <parámetros>: <valor a retornar>`. Acá no se debe usar `return` ya que lo que viene después de `:` es el valor a retornar. Al no tener nombres, son usadas únicamente donde fueron creadas. Es una mala práctica usarla para asignar a una variable.\n",
    "\n",
    "\n",
    "#### Las que **no** necesitan de una función para ser ejecutadas\n",
    "- `enumerate()`: Es un generador que retorna tuplas de forma `(índice, ítem_original)`. De esta manera, le asigna un índice a cada valor de un iterador. Al usar `next` luego de un `enumerate`, es posible acceder a sus elementos y se puede usar en un `for`.\n",
    "- `zip`: Toma 2 o más iterables y retorna un iterador con tuplas con los i-ésimos elementos de cada iterable.\n",
    "- `zip` inversa de si misma: Al usar `zip` junto a `*`, se arma un zip inverso. Esto significa que retorna los iterables a sus estados originales."
   ]
  },
  {
   "cell_type": "markdown",
   "metadata": {},
   "source": [
    "## Aplicaciones generadores"
   ]
  },
  {
   "cell_type": "markdown",
   "metadata": {},
   "source": [
    "#### En funciones *built-in*\n",
    "- `len`\n",
    "- `__getitem__`: Al ser implementado en una clase, permite acceder a un elemento por su índice con `objeto[valor]`. Lo cual puede formar una secuencia o un *mapping*.\n",
    "- `reversed()`: Toma una secuencia y retorna una copia inversa. Esto se puede personalizar con *overriding* `__reversed__` en cada clase. Usa los métodos `__len__` y `__getitem__`\n",
    "- `sum()`: Enfoque matemático.\n",
    "- `min()`: Enfoque matemático.\n",
    "- `max()`: Enfoque matemático.\n",
    "- `all()`: Enfoque booleano.\n",
    "- `any()`: Enfoque booleano.\n",
    "\n",
    "#### Librerías *built-in*\n",
    "##### [`itertools`](https://docs.python.org/3/library/itertools.html)\n",
    "Cuenta con funciones especializadas en iteradores. Hay funciones que entregan iteradores infinitos (`count`, `cycle` y `repeat`) y otras enfocadas en combinatoria(`product`, `permutations` y `combinations`)\n",
    "##### [`collections`](https://docs.python.org/3/library/collections.html)\n",
    "Entrega alternativas a diccionarios, sets, listas y tuplas. Con métodos como:\n",
    "- `namedtuple()`\n",
    "- `deque``\n",
    "- `defaultdict` \n",
    "Y también nuevos objetos como `Counter` que permite contar los elementos de un iterable, almacenandolos en diccionarios(`{elemento: recuento}`)."
   ]
  },
  {
   "cell_type": "markdown",
   "metadata": {},
   "source": [
    "# Extras"
   ]
  },
  {
   "cell_type": "markdown",
   "metadata": {},
   "source": [
    "- El parámetro `topdown` decide si la navegación de una carpeta será desde la raíz (`topdown = True`) o desde después (`topdown = False`).\n",
    "- Al momento de abrir un archivo (con `open`), se puede utilizar el argumento `rt`. Este indica que es una lectura en formato de texto!\n",
    "- Al utilizar `with` junto a `open`, eel archivo se cierra automáticamente al terminar la lectura. Eliminando la necesidad de usar `close`.\n",
    "- Python cuenta con un [glosario](https://docs.python.org/3/glossary.html) para sus términos.\n",
    "- La función `zip`permite recorrer 2 o más iterables juntos en base a las posiciones de sus elementos."
   ]
  }
 ],
 "metadata": {
  "language_info": {
   "name": "python"
  }
 },
 "nbformat": 4,
 "nbformat_minor": 2
}
