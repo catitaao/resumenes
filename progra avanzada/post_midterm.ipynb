{
 "cells": [
  {
   "cell_type": "markdown",
   "metadata": {},
   "source": [
    "# Tabla de contenidos"
   ]
  },
  {
   "cell_type": "markdown",
   "metadata": {},
   "source": [
    "1. [Semana 9 - Threading]()\n",
    "2. [Semana 9 - ]()\n",
    "3. [Semana 9 - ]()\n",
    "4. [Semana 10 - ]()\n",
    "5. [Semana 10 - ]()\n",
    "6. [Semana 10 - ]()\n",
    "7. [Semana 10 - ]()\n",
    "8. [Semana 10 - ]()\n",
    "9. [Semana 11 - ]()\n",
    "10. [Semana 11 - ]()\n",
    "11. [Semana 11 - ]()\n",
    "12. [Semana 12 - ]()\n",
    "13. [Semana 12 - ]()\n",
    "14. [Semana 12 - ]()\n",
    "15. [Semana 12 - ]()\n",
    "16. [Semana 12 - ]()\n",
    "17. [Semana 13 - ]()\n",
    "18. [Semana 13 - ]()\n",
    "19. [Semana 13 - ]()\n",
    "20. [Semana 13 - ]()"
   ]
  },
  {
   "cell_type": "markdown",
   "metadata": {},
   "source": [
    "## *Threading*"
   ]
  },
  {
   "cell_type": "markdown",
   "metadata": {},
   "source": [
    "- Mediante *Threading*, es posible hacer que el código siga múltiples instrucciones simultáneamente, estos son **múltiples flujos de instrucciones** en el mismo código.\n",
    "\n",
    "- El sistema operativo logra ejecutar múltiples programas simultáneamente, se hace la **abstracción** del proceso.\n",
    "    - Un proceso consiste en un programa en ejecución, el cual ocupa espacio de la memoria del computador (RAM) y ejecuta un flujo de instrucciones.\n",
    "- **CPU**:\n",
    "    - Se encarga de ejecutar instrucciones\n",
    "    - Tiene un núcleo (*core*), el cual lee una instrucción, la ejecuta y pasa a la siguiente, hasta que se acaben.\n",
    "    - En la actualidad, los sistemas poseen múltiples *cores* (***dualcore***, ***quadcore***, ***octacore***), lo que permite que cada núcleo ejecute de manera realmente paralela.\n",
    "    - Cuando hay más procesos que núcleos, se forma una cola para la ejecución.\n",
    "    - El sistema operativo se encarga de manejar las ejecuciones, pausando e iniciando procesos de manera eficiente.\n",
    "    - Es posible que varios núcleos ejecuten distintos flujos de un mismo proceso al mismo tiempo, mediante ***threads!!***\n",
    "\n",
    "### *Threading*\n",
    "\n",
    "- Un ***thread*** (hilo) es una unidad de ejecución de código en un **proceso**.\n",
    "    - Por lo que un conjunto de *threads* = proceso.\n",
    "- Un **proceso** es el programa que se carga en la memoria del computador.\n",
    "    - Formado por código y sus variables. Donde el *thread* se encarga de ver la parte que se está ejecutando.\n",
    "- Cada proceso posee al menos 1 hilo, al cual se le llama el *thread principal* del programa.\n",
    "- Cada ***thread*** registra las variables locales y en qué parte del código del programa se encuentran. \n",
    "- Tienen la habilidad de crear otros hilos.\n",
    "\n",
    "- El proceso de ejecución de *threads* se llama *thread scheduling* o *time slicing*, el cual consiste en:\n",
    "\n",
    "    1. Escoger un *thread* que esté disponible para ejecutar.\n",
    "    2. Ejecutar cierta cantidad de instrucciones del hilo o por cierto tiempo.\n",
    "    3. Pausar el *thread* actual.\n",
    "    4. Repetir el proceso.\n",
    "\n",
    "- Los procesos de *thread scheduling* ocurren tan rápido, que parece que se ejecutan simultáneamente.\n",
    "- Solo ocurren paralelamente si hay más de un núcleo.\n",
    "- El uso de *threads* puede hacer el proceso de ejecución más lento, pero ayuda a que los programas sean más claros y sencillos al hacer que cada *thread* se encargue de aspectos distintos del programa, ya que se ahorra el salto entre funcionalidades en un hilo de ejecución.\n",
    "\n",
    "- Usos comunes:\n",
    "    - Separar funciones independientes que trabajan con los mismos datos pero pueden ocurrir paralelamente.\n",
    "    - Interfaces gráficas que requieren de interacción con el usuario, mientras otros *threads* se encargan de partes independientes del usuario.\n",
    "    - Aplicaciones con múltiples usuarios, donde cada thread se encarga de cada usuario de forma independiente.\n",
    "\n",
    "### Crear *threads* (métodos y más)\n",
    "\n",
    "- Para esto se usa el módulo `threading`, en el cual se representan los threads mediante objetos.\n",
    "- La clase `Thread` se usa para representar un hilo. \n",
    "- Cuando se llega a una instancia de clase `Thread`, se da la instrucción de ejecutar la función indicada por `target = nombre_funcion`. Pero **no** se ejecuta inmediatamente. Solo se define un hilo capaz de hacerlo.\n",
    "- Para ejecutar un *thread*, se usa el método `start()`\n",
    "\n",
    "- Al definir un *thread* de esta manera, solo se puede ejecutar una vez. Para repetirlo se debe volver a instanciar!\n",
    "\n",
    "- A un *thread* se le puede entregar el argumento `name`, el cual permite identificarlo.\n",
    "- Un *main thread* recibe por defecto el nombre `\"MainThread\"`.\n",
    "- El método `threading.current_thread()` proporciona la instancia del thread que está siendo ejecutada, la que está en el CPU. "
   ]
  },
  {
   "cell_type": "code",
   "execution_count": null,
   "metadata": {},
   "outputs": [],
   "source": [
    "import threading\n",
    "\n",
    "nombre_hilo = threading.Thread(target = funcion_para_ejecutar)\n",
    "nombre_hilo.start()\n",
    "\n",
    "print (nombre_hilo.name) #si es el main thread, retorna MainThread o el nombre dado\n",
    "\n",
    "hilo_2 = threading.Thread(name = thread2, target = funcion_2)\n",
    "print (hilo2.name) #retorna thread2"
   ]
  }
 ],
 "metadata": {
  "language_info": {
   "name": "python"
  }
 },
 "nbformat": 4,
 "nbformat_minor": 2
}
