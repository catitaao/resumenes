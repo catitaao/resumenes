{
 "cells": [
  {
   "cell_type": "markdown",
   "metadata": {},
   "source": [
    "# Contenidos\n",
    "1. [Inteligencia de Negocios](#inteligencia-de-negocios)\n",
    "2. [Seguridad TI](#seguridad-ti)\n",
    "3. [KPI OKR](#kpi-okr)\n",
    "4. [IA](#ia)\n",
    "5. [IA en Organizaciones](#ia-en-organizaciones)\n",
    "6. [Desarrollo de proyecros TI](#desarrollo-de-proyectos-ti)"
   ]
  },
  {
   "cell_type": "markdown",
   "metadata": {},
   "source": [
    "## Inteligencia de Negocios"
   ]
  },
  {
   "cell_type": "markdown",
   "metadata": {},
   "source": [
    "## Seguridad TI"
   ]
  },
  {
   "cell_type": "markdown",
   "metadata": {},
   "source": [
    "## KPI OKR"
   ]
  },
  {
   "cell_type": "markdown",
   "metadata": {},
   "source": [
    "## IA"
   ]
  },
  {
   "cell_type": "markdown",
   "metadata": {},
   "source": [
    "## IA en Organizaciones"
   ]
  },
  {
   "cell_type": "markdown",
   "metadata": {},
   "source": [
    "## Desarrollo de proyectos TI"
   ]
  },
  {
   "cell_type": "markdown",
   "metadata": {},
   "source": [
    "- Es fundamental integrar los datos. Donde se busca poder optimizar la obtención de información al tener todo en un solo lugar.\n",
    "    - Ej: El gobierno de Chile tiene la plataforma ChileAtiende, la cual facilita el acceso a distintos trámites que se realizan en una gran variedad de sitios.\n",
    "- La información se integra dentro de un repositorio para optimizar procesos y \n",
    "\n",
    "\n",
    "\n",
    "frameworks y herramientas para obtener un resultado completo.\n",
    "- Se deben manejar los datos de forma estándar (framework establecido) y una forma de obtenerlos (ingesta).\n",
    "- Al tener los datos se deben clasificar y valorar.\n",
    "\n",
    "- Dado un framework, nos podemos guíar en la forma de manejar los datos."
   ]
  }
 ],
 "metadata": {
  "language_info": {
   "name": "python"
  }
 },
 "nbformat": 4,
 "nbformat_minor": 2
}
