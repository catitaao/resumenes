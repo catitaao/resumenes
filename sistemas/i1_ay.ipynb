{
 "cells": [
  {
   "cell_type": "markdown",
   "metadata": {},
   "source": [
    "- **Misión:** Es la razón de la existencia, el objetivo y el para qué fue creada la empresa.\n",
    "- **Visión:** Es la proyección a futuro de la empresa, su meta.\n",
    "- **Estrategia:** Es la dirección y el conjunto de decisiones que permite cumplir la misión y acercar a la visión. Esto consiste en un conjunto de principios, objetivos y declaraciones que permiten tomar decisiones."
   ]
  },
  {
   "cell_type": "markdown",
   "metadata": {},
   "source": [
    "**Para esto, los S.I. permiten cumplir objetivos de negocio estratégicos, como:**\n",
    "\n",
    "- **Excelencia operacional (Bajar costos):** Al utilizar S.I., mejoran la eficiencia y productividad, bajando costos.\n",
    "\n",
    "- **Nuevos productos, servicios y modelos de negocio (Vender (algo) más a los mismos):** Esto se logra mediante modelos de negocios, los cuales describen la forma en la que la compañía produce y entrega productos o servicios para crear valor para clientes y utilidad para la empresa.\n",
    "\n",
    "- **Vínculo con clientes y proveedores (Retener):** Al tener una buena relación con los clientes, se logra que estos regresen. Aumentando ingresos y rentabilidad (**C**ustomer **R**elationship **M**anagement). Mientras que con los proveedores, permite tener información importante y disminuye costos.\n",
    "\n",
    "- **Mejorar la toma de decisiones (Predecir la siguiente compra):** Mediante el uso de S.I, se mejora la precisión al momento de predecir decisiones de la empresa. Disminuyendo casos de sobre o sub producción, largos tiempos de respuestas y mal aprovechamiento de recursos.\n",
    "\n",
    "- **Supervivencia/Resiliencia (Adaptarse):** Los sistemas de información entregan información escencial para la empresa, manteniendola al día con los cambios en la industria y mantenerse vigente a la normativa.\n",
    "\n",
    "- **Obtener ventaja competitiva**: Ofreciendo algo único, distinto a la competencia, más calidad y menos costo, comunicación constante con clientes y proveedores."
   ]
  },
  {
   "cell_type": "markdown",
   "metadata": {},
   "source": [
    "##### **Composición de un S.I.**\n",
    "- **Procesos de negocios:** Pasos diseñados para obtener un objetivo.\n",
    "- **Datos:** Fluyen a través del sistema para convertirse en información.\n",
    "- **Software:** La lógica sobre la que opera un S.I.\n",
    "- **Hardware:** Componentes físicos que permiten hacer uso del software.\n",
    "- **Personas/organizaciones:** Quienes participan en los procesos, normalmente como usuarios."
   ]
  },
  {
   "cell_type": "markdown",
   "metadata": {},
   "source": [
    "## Ejemplos S.I.\n"
   ]
  }
 ],
 "metadata": {
  "language_info": {
   "name": "python"
  }
 },
 "nbformat": 4,
 "nbformat_minor": 2
}
