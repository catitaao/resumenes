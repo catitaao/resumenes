{
  "nbformat": 4,
  "nbformat_minor": 0,
  "metadata": {
    "colab": {
      "provenance": []
    },
    "kernelspec": {
      "name": "python3",
      "display_name": "Python 3"
    },
    "language_info": {
      "name": "python"
    }
  },
  "cells": [
    {
      "cell_type": "markdown",
      "source": [
        "# T4 Sistemas de información - Grupo 7\n",
        "\n",
        "Importamos las librerías necesarias"
      ],
      "metadata": {
        "id": "c6AGSwvaWN34"
      }
    },
    {
      "cell_type": "code",
      "execution_count": 1,
      "metadata": {
        "id": "OVo2K8QhFDs7"
      },
      "outputs": [],
      "source": [
        "import pandas as pd\n",
        "from datetime import datetime\n",
        "import matplotlib.pyplot as plt"
      ]
    },
    {
      "cell_type": "markdown",
      "source": [
        "Cargamos los datos con los que trabajaremos"
      ],
      "metadata": {
        "id": "DFtV40nIWVXC"
      }
    },
    {
      "cell_type": "code",
      "source": [
        "df = pd.read_excel('Datos T4.xlsx')\n",
        "df.head(5)"
      ],
      "metadata": {
        "colab": {
          "base_uri": "https://localhost:8080/",
          "height": 316
        },
        "id": "4uQ6epJeWWmf",
        "outputId": "4744eb79-548f-43b2-e0ea-07aa31cb10cf"
      },
      "execution_count": 2,
      "outputs": [
        {
          "output_type": "error",
          "ename": "FileNotFoundError",
          "evalue": "[Errno 2] No such file or directory: 'Datos T4.xlsx'",
          "traceback": [
            "\u001b[0;31m---------------------------------------------------------------------------\u001b[0m",
            "\u001b[0;31mFileNotFoundError\u001b[0m                         Traceback (most recent call last)",
            "\u001b[0;32m<ipython-input-2-fb6f32d15506>\u001b[0m in \u001b[0;36m<cell line: 1>\u001b[0;34m()\u001b[0m\n\u001b[0;32m----> 1\u001b[0;31m \u001b[0mdf\u001b[0m \u001b[0;34m=\u001b[0m \u001b[0mpd\u001b[0m\u001b[0;34m.\u001b[0m\u001b[0mread_excel\u001b[0m\u001b[0;34m(\u001b[0m\u001b[0;34m'Datos T4.xlsx'\u001b[0m\u001b[0;34m)\u001b[0m\u001b[0;34m\u001b[0m\u001b[0;34m\u001b[0m\u001b[0m\n\u001b[0m\u001b[1;32m      2\u001b[0m \u001b[0mdf\u001b[0m\u001b[0;34m.\u001b[0m\u001b[0mhead\u001b[0m\u001b[0;34m(\u001b[0m\u001b[0;36m5\u001b[0m\u001b[0;34m)\u001b[0m\u001b[0;34m\u001b[0m\u001b[0;34m\u001b[0m\u001b[0m\n",
            "\u001b[0;32m/usr/local/lib/python3.10/dist-packages/pandas/io/excel/_base.py\u001b[0m in \u001b[0;36mread_excel\u001b[0;34m(io, sheet_name, header, names, index_col, usecols, dtype, engine, converters, true_values, false_values, skiprows, nrows, na_values, keep_default_na, na_filter, verbose, parse_dates, date_parser, date_format, thousands, decimal, comment, skipfooter, storage_options, dtype_backend, engine_kwargs)\u001b[0m\n\u001b[1;32m    493\u001b[0m     \u001b[0;32mif\u001b[0m \u001b[0;32mnot\u001b[0m \u001b[0misinstance\u001b[0m\u001b[0;34m(\u001b[0m\u001b[0mio\u001b[0m\u001b[0;34m,\u001b[0m \u001b[0mExcelFile\u001b[0m\u001b[0;34m)\u001b[0m\u001b[0;34m:\u001b[0m\u001b[0;34m\u001b[0m\u001b[0;34m\u001b[0m\u001b[0m\n\u001b[1;32m    494\u001b[0m         \u001b[0mshould_close\u001b[0m \u001b[0;34m=\u001b[0m \u001b[0;32mTrue\u001b[0m\u001b[0;34m\u001b[0m\u001b[0;34m\u001b[0m\u001b[0m\n\u001b[0;32m--> 495\u001b[0;31m         io = ExcelFile(\n\u001b[0m\u001b[1;32m    496\u001b[0m             \u001b[0mio\u001b[0m\u001b[0;34m,\u001b[0m\u001b[0;34m\u001b[0m\u001b[0;34m\u001b[0m\u001b[0m\n\u001b[1;32m    497\u001b[0m             \u001b[0mstorage_options\u001b[0m\u001b[0;34m=\u001b[0m\u001b[0mstorage_options\u001b[0m\u001b[0;34m,\u001b[0m\u001b[0;34m\u001b[0m\u001b[0;34m\u001b[0m\u001b[0m\n",
            "\u001b[0;32m/usr/local/lib/python3.10/dist-packages/pandas/io/excel/_base.py\u001b[0m in \u001b[0;36m__init__\u001b[0;34m(self, path_or_buffer, engine, storage_options, engine_kwargs)\u001b[0m\n\u001b[1;32m   1548\u001b[0m                 \u001b[0mext\u001b[0m \u001b[0;34m=\u001b[0m \u001b[0;34m\"xls\"\u001b[0m\u001b[0;34m\u001b[0m\u001b[0;34m\u001b[0m\u001b[0m\n\u001b[1;32m   1549\u001b[0m             \u001b[0;32melse\u001b[0m\u001b[0;34m:\u001b[0m\u001b[0;34m\u001b[0m\u001b[0;34m\u001b[0m\u001b[0m\n\u001b[0;32m-> 1550\u001b[0;31m                 ext = inspect_excel_format(\n\u001b[0m\u001b[1;32m   1551\u001b[0m                     \u001b[0mcontent_or_path\u001b[0m\u001b[0;34m=\u001b[0m\u001b[0mpath_or_buffer\u001b[0m\u001b[0;34m,\u001b[0m \u001b[0mstorage_options\u001b[0m\u001b[0;34m=\u001b[0m\u001b[0mstorage_options\u001b[0m\u001b[0;34m\u001b[0m\u001b[0;34m\u001b[0m\u001b[0m\n\u001b[1;32m   1552\u001b[0m                 )\n",
            "\u001b[0;32m/usr/local/lib/python3.10/dist-packages/pandas/io/excel/_base.py\u001b[0m in \u001b[0;36minspect_excel_format\u001b[0;34m(content_or_path, storage_options)\u001b[0m\n\u001b[1;32m   1400\u001b[0m         \u001b[0mcontent_or_path\u001b[0m \u001b[0;34m=\u001b[0m \u001b[0mBytesIO\u001b[0m\u001b[0;34m(\u001b[0m\u001b[0mcontent_or_path\u001b[0m\u001b[0;34m)\u001b[0m\u001b[0;34m\u001b[0m\u001b[0;34m\u001b[0m\u001b[0m\n\u001b[1;32m   1401\u001b[0m \u001b[0;34m\u001b[0m\u001b[0m\n\u001b[0;32m-> 1402\u001b[0;31m     with get_handle(\n\u001b[0m\u001b[1;32m   1403\u001b[0m         \u001b[0mcontent_or_path\u001b[0m\u001b[0;34m,\u001b[0m \u001b[0;34m\"rb\"\u001b[0m\u001b[0;34m,\u001b[0m \u001b[0mstorage_options\u001b[0m\u001b[0;34m=\u001b[0m\u001b[0mstorage_options\u001b[0m\u001b[0;34m,\u001b[0m \u001b[0mis_text\u001b[0m\u001b[0;34m=\u001b[0m\u001b[0;32mFalse\u001b[0m\u001b[0;34m\u001b[0m\u001b[0;34m\u001b[0m\u001b[0m\n\u001b[1;32m   1404\u001b[0m     ) as handle:\n",
            "\u001b[0;32m/usr/local/lib/python3.10/dist-packages/pandas/io/common.py\u001b[0m in \u001b[0;36mget_handle\u001b[0;34m(path_or_buf, mode, encoding, compression, memory_map, is_text, errors, storage_options)\u001b[0m\n\u001b[1;32m    880\u001b[0m         \u001b[0;32melse\u001b[0m\u001b[0;34m:\u001b[0m\u001b[0;34m\u001b[0m\u001b[0;34m\u001b[0m\u001b[0m\n\u001b[1;32m    881\u001b[0m             \u001b[0;31m# Binary mode\u001b[0m\u001b[0;34m\u001b[0m\u001b[0;34m\u001b[0m\u001b[0m\n\u001b[0;32m--> 882\u001b[0;31m             \u001b[0mhandle\u001b[0m \u001b[0;34m=\u001b[0m \u001b[0mopen\u001b[0m\u001b[0;34m(\u001b[0m\u001b[0mhandle\u001b[0m\u001b[0;34m,\u001b[0m \u001b[0mioargs\u001b[0m\u001b[0;34m.\u001b[0m\u001b[0mmode\u001b[0m\u001b[0;34m)\u001b[0m\u001b[0;34m\u001b[0m\u001b[0;34m\u001b[0m\u001b[0m\n\u001b[0m\u001b[1;32m    883\u001b[0m         \u001b[0mhandles\u001b[0m\u001b[0;34m.\u001b[0m\u001b[0mappend\u001b[0m\u001b[0;34m(\u001b[0m\u001b[0mhandle\u001b[0m\u001b[0;34m)\u001b[0m\u001b[0;34m\u001b[0m\u001b[0;34m\u001b[0m\u001b[0m\n\u001b[1;32m    884\u001b[0m \u001b[0;34m\u001b[0m\u001b[0m\n",
            "\u001b[0;31mFileNotFoundError\u001b[0m: [Errno 2] No such file or directory: 'Datos T4.xlsx'"
          ]
        }
      ]
    },
    {
      "cell_type": "code",
      "source": [
        "from google.colab import drive\n",
        "drive.mount('/content/drive')"
      ],
      "metadata": {
        "id": "EnLKSuL1mNGj"
      },
      "execution_count": null,
      "outputs": []
    },
    {
      "cell_type": "markdown",
      "source": [
        "# New Section"
      ],
      "metadata": {
        "id": "8G95cRWFmWXY"
      }
    },
    {
      "cell_type": "markdown",
      "source": [
        "1. Cantidad de razones diferentes en cada fundación"
      ],
      "metadata": {
        "id": "RX7PwLkOidMF"
      }
    },
    {
      "cell_type": "code",
      "source": [
        "razones_por_fundacion = df.groupby('Fundación')['Razón de llegada'].nunique()\n",
        "print(\"Cantidad de razones diferentes en cada fundación:\")\n",
        "print(razones_por_fundacion)"
      ],
      "metadata": {
        "id": "ZazQ3ti9Wg7_"
      },
      "execution_count": null,
      "outputs": []
    },
    {
      "cell_type": "markdown",
      "source": [
        "2. Cantidad de personas que se unieron a cada una de las fundaciones luego del 1 de enero de 2023."
      ],
      "metadata": {
        "id": "N2KkC8Cvi2Ob"
      }
    },
    {
      "cell_type": "code",
      "source": [
        "df['Fecha Unión'] = pd.to_datetime(df['Fecha Unión'], format='%Y-%m-%d')\n",
        "personas_unidas_2023 = df[df['Fecha Unión'] > '2023-01-01'].groupby('Fundación')['Nombre'].count()\n",
        "print(\"\\nCantidad de personas que se unieron a cada fundación después del 1 de enero de 2023:\")\n",
        "print(personas_unidas_2023)"
      ],
      "metadata": {
        "id": "TMUQX8doi7yx"
      },
      "execution_count": null,
      "outputs": []
    },
    {
      "cell_type": "markdown",
      "source": [
        "3. Edad promedio y mediana de las personas asociadas a la Fundación asignada al grupo.\n",
        "\n",
        "La fundación asignada al grupo es la fundación Gantz"
      ],
      "metadata": {
        "id": "RUz2WOdVi-BH"
      }
    },
    {
      "cell_type": "code",
      "source": [
        "fundacion_asignada = df[df['Fundación'] == 'Fundación Gantz']\n",
        "edad_promedio = fundacion_asignada['Edad'].mean()\n",
        "edad_mediana = fundacion_asignada['Edad'].median()\n",
        "print(f\"\\nEdad promedio y mediana en Fundación Gantz:\")\n",
        "print(f\"Promedio: {edad_promedio}\")\n",
        "print(f\"Mediana: {edad_mediana}\")"
      ],
      "metadata": {
        "id": "58MjWxLMi_y5"
      },
      "execution_count": null,
      "outputs": []
    },
    {
      "cell_type": "markdown",
      "source": [
        "4. Mes en que más personas han llegado a cada una de las fundaciones (Sin importar el año)\n"
      ],
      "metadata": {
        "id": "jkZownGFjASZ"
      }
    },
    {
      "cell_type": "code",
      "source": [
        "def number_to_month(month):\n",
        "    month_list = ['Enero', 'Febrero', 'Marzo', 'Abril', 'Mayo', 'Junio', 'Julio', 'Agosto', 'Septiembre', 'Octubre', 'Noviembre', 'Diciembre']\n",
        "    return month_list[month - 1]\n",
        "\n",
        "# 4. Mes en que más personas han llegado a cada una de las fundaciones (Sin importar el año)\n",
        "df['Mes unión'] = df['Fecha Unión'].dt.month\n",
        "mes_mas_llegadas = df.groupby('Fundación')['Mes unión'].agg(lambda x: x.mode()[0])\n",
        "mes_mas_llegadas = mes_mas_llegadas.apply(number_to_month)\n",
        "print(\"\\nMes en que más personas han llegado a cada fundación:\")\n",
        "print(mes_mas_llegadas)"
      ],
      "metadata": {
        "id": "U3IoKCLujC3E"
      },
      "execution_count": null,
      "outputs": []
    },
    {
      "cell_type": "markdown",
      "source": [
        "5. Porcentaje de personas que son voluntarias según sexo, edad y país de origen"
      ],
      "metadata": {
        "id": "Yhnfwv7ojFNn"
      }
    },
    {
      "cell_type": "code",
      "source": [
        "voluntarios = df.groupby(['Sexo', 'Edad', 'País Origen']).size() / len(df) * 100\n",
        "print(\"\\nPorcentaje de personas que son voluntarias según sexo, edad y país de origen:\")\n",
        "print(voluntarios)"
      ],
      "metadata": {
        "id": "m4yCNSO6jDmw"
      },
      "execution_count": null,
      "outputs": []
    },
    {
      "cell_type": "markdown",
      "source": [
        "ahora, podemos verlo de forma más específica para cada grupo:"
      ],
      "metadata": {
        "id": "SLeXOsHNuOi-"
      }
    },
    {
      "cell_type": "code",
      "source": [
        "voluntarios = df[df['Voluntario']==\"Sí\"]\n",
        "total_voluntarios = len(voluntarios)\n",
        "print(f\"Total de voluntarios: {total_voluntarios}\")\n",
        "print(f\"porcentaje de voluntarios: {round(total_voluntarios / len(df) * 100, 2)}%\")"
      ],
      "metadata": {
        "id": "JcZJLjLZuk2S"
      },
      "execution_count": null,
      "outputs": []
    },
    {
      "cell_type": "code",
      "source": [
        "voluntarios_F = voluntarios[voluntarios[\"Sexo\"] == \"F\"]\n",
        "voluntarios_M = voluntarios[voluntarios[\"Sexo\"] == \"M\"]\n",
        "voluntarios_sin_sexo = voluntarios[voluntarios[\"Sexo\"].isnull()]\n",
        "print(f\"Total de voluntarios con sexo femenino: {len(voluntarios_F)}\")\n",
        "print(f\"porcentaje de voluntarias (Sexo F) con respecto al total de voluntarios: {round(len(voluntarios_F) / total_voluntarios * 100, 2)}%\")\n",
        "print(f\"porcentaje de voluntarias (Sexo F) con respecto al total de personas: {round(len(voluntarios_F) / len(df) * 100,2)}%\\n\")\n",
        "\n",
        "print(f\"Total de voluntarios con sexo masculino: {len(voluntarios_M)}\")\n",
        "print(f\"porcentaje de voluntarios (Sexo M) con respecto al total de voluntarios: {round(len(voluntarios_M) / total_voluntarios * 100, 2)}%\")\n",
        "print(f\"porcentaje de voluntarios (Sexo M) con respecto al total de personas: {round(len(voluntarios_M) / len(df) * 100,2)}%\\n\")\n",
        "\n",
        "print(f\"Total de voluntarios sin sexo registrado: {len(voluntarios_sin_sexo)}\")\n",
        "print(f\"porcentaje de voluntari@s (Sexo NaN) con respecto al total de voluntarios: {round(len(voluntarios_sin_sexo) / total_voluntarios * 100, 2)}%\")\n",
        "print(f\"porcentaje de voluntari@s (Sexo NaN) con respecto al total de personas: {round(len(voluntarios_sin_sexo) / len(df) * 100,2)}%\")"
      ],
      "metadata": {
        "id": "MAZ5gVZIupMK"
      },
      "execution_count": null,
      "outputs": []
    },
    {
      "cell_type": "code",
      "source": [
        "voluntarios_por_edad_vol = voluntarios.groupby(['Edad']).size() / len(voluntarios) * 100\n",
        "voluntarios_por_edad_tot = voluntarios.groupby(['Edad']).size() / len(df) * 100\n",
        "\n",
        "print(f\"porcentaje de voluntarios por rango de edad, con respecto al total de voluntarios:\")\n",
        "print(voluntarios_por_edad_vol)\n",
        "print(f\"{'-'*30}\\n\")\n",
        "print(f\"porcentaje de voluntarios por rango de edad, con respecto al total de personas:\")\n",
        "print(voluntarios_por_edad_tot)"
      ],
      "metadata": {
        "collapsed": true,
        "id": "doCnpuhJuwGD"
      },
      "execution_count": null,
      "outputs": []
    },
    {
      "cell_type": "code",
      "source": [
        "voluntarios_por_pais_vol = voluntarios.groupby(['País Origen']).size() / len(voluntarios) * 100\n",
        "voluntarios_por_pais_tot = voluntarios.groupby(['País Origen']).size() / len(df) * 100\n",
        "\n",
        "print(f\"porcentaje de voluntarios por país de origen, con respecto al total de voluntarios:\")\n",
        "print(voluntarios_por_pais_vol)\n",
        "print(f\"{'-'*30}\\n\")\n",
        "print(f\"porcentaje de voluntarios por país de origen, con respecto al total de personas:\")\n",
        "print(voluntarios_por_pais_tot)"
      ],
      "metadata": {
        "collapsed": true,
        "id": "zqTWaEJfvsMG"
      },
      "execution_count": null,
      "outputs": []
    },
    {
      "cell_type": "markdown",
      "source": [
        "6. Gráfico de barras con la cantidad de participantes de frecuencia regular menores a 25 años de cada\n",
        "Fundación."
      ],
      "metadata": {
        "id": "6YbPM3qwjH-m"
      }
    },
    {
      "cell_type": "code",
      "source": [
        "menores_25_regular = df[(df['Edad'] < 25) & (df['Frecuencia Participación'] == 'Regular')].groupby('Fundación')['Nombre'].count()\n",
        "menores_25_regular.plot(kind='bar')\n",
        "plt.title('Cantidad de participantes menores a 25 años con frecuencia regular')\n",
        "plt.ylabel('Cantidad')\n",
        "plt.xlabel('Fundación')\n",
        "plt.show()"
      ],
      "metadata": {
        "id": "xGUUofHIjI83"
      },
      "execution_count": null,
      "outputs": []
    },
    {
      "cell_type": "markdown",
      "source": [
        "7. Gráfico circular de la cantidad de personas que lleva siendo voluntario de cada Fundación por más\n",
        "de un 25% de su vida ((Fecha actual - Fecha de unión a la Fundación) /Edad). Recuerden dejar el\n",
        "mismo formato para la diferencia de fechas y edad, días, meses o años."
      ],
      "metadata": {
        "id": "RPfOUeWXjLZQ"
      }
    },
    {
      "cell_type": "code",
      "source": [
        "df['Tiempo en fundación'] = (datetime.now() - df['Fecha Unión']).dt.days / 365 #agregar columna de tiempo en fundación medida en años\n",
        "df['Porcentaje vida en fundación'] = df['Tiempo en fundación'] / df['Edad']\n",
        "mas_del_25_vida = df[df['Porcentaje vida en fundación'] > 0.25].groupby('Fundación')['Nombre'].count()\n",
        "mas_del_25_vida.plot(kind='pie', autopct='%1.1f%%')\n",
        "plt.title('Personas que llevan más del 25% de su vida como voluntarios en cada fundación')\n",
        "plt.ylabel('')\n",
        "plt.show()"
      ],
      "metadata": {
        "id": "Tb0NLsE7jLEm"
      },
      "execution_count": null,
      "outputs": []
    }
  ]
}