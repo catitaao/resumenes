Macro-tema 1: Organizaciones y Sistemas

	Conceptos Clave:
	•	Sistemas de Información (SI): Son conjuntos de componentes interrelacionados que recolectan, procesan, almacenan y distribuyen información para apoyar la toma de decisiones, la coordinación y el control dentro de una organización.
	•	Enfoque sociotécnico: Abarca tanto los aspectos tecnológicos como sociales en la implementación de sistemas de información.
	•	Estrategia organizacional: Uso de los SI para obtener ventajas competitivas y apoyar la estrategia general de la empresa.
	Desarrollo de Modelos:
	•	Es esencial un análisis industrial para identificar cómo los SI pueden mejorar la cadena de valor de la organización.
	•	Se debe realizar un alineamiento estratégico entre las TI y los objetivos de negocio, evaluando cómo los SI impactan en las áreas funcionales de la empresa y la productividad global.

Macro-tema 2: Modelamiento de Procesos de Negocio

	Conceptos Clave:
	•	Business Process Management (BPM): Es un enfoque que permite a las organizaciones mejorar continuamente sus procesos operativos, alineándolos con la estrategia del negocio.
	•	BPMN (Business Process Model and Notation): Notación estándar para modelar procesos de negocio, que facilita la visualización y comprensión de los flujos de trabajo.
	Desarrollo de Modelos:
	•	Para modelar procesos, se utiliza BPMN que permite diagramar de manera clara el flujo de tareas, decisiones y eventos que componen un proceso.
	•	El uso de BPM es clave para optimizar la cadena de valor de la organización y mejorar la eficiencia de los procesos críticos.
	•	Evaluación de procesos: Con BPM se pueden identificar cuellos de botella o ineficiencias, permitiendo aplicar mejoras y controlar los resultados.

Macro-tema 3: Aplicaciones Empresariales

	Conceptos Clave:
	•	ERP (Enterprise Resource Planning): Sistemas que integran la información de todas las áreas funcionales de una empresa, como finanzas, recursos humanos y logística.
	•	SCM (Supply Chain Management): Administración de la cadena de suministro, optimizando el flujo de productos e información desde proveedores hasta clientes.
	•	CRM (Customer Relationship Management): Gestión de la relación con los clientes para mejorar la satisfacción y lealtad.
	Desarrollo de Modelos:
	•	Para implementar un ERP, es necesario mapear todos los procesos clave de la empresa y garantizar que el sistema ERP se integre adecuadamente con las necesidades específicas de cada área funcional.
	•	En SCM, es fundamental modelar la cadena de suministro, identificando nodos clave y evaluando cómo la tecnología puede mejorar el flujo de información y reducir los tiempos de ciclo.
	•	El uso de CRM implica la integración de tecnologías que permitan gestionar el ciclo de vida del cliente, desde la adquisición hasta la retención, personalizando las interacciones en función de los datos obtenidos.

Estos tres macrotemas se relacionan de manera interdependiente, ya que los sistemas de información y sus aplicaciones empresariales son fundamentales para gestionar eficientemente los procesos de negocio y apoyar la estrategia organizacional. El modelamiento y la implementación adecuada de estos sistemas permiten a las empresas mejorar su competitividad y capacidad de respuesta en el mercado.